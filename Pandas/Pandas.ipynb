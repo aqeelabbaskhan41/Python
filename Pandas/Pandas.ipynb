{
 "cells": [
  {
   "cell_type": "markdown",
   "metadata": {},
   "source": [
    "## **Pandas:** "
   ]
  },
  {
   "cell_type": "code",
   "execution_count": 122,
   "metadata": {},
   "outputs": [],
   "source": [
    "import numpy as np\n",
    "import pandas as pd"
   ]
  },
  {
   "cell_type": "code",
   "execution_count": 123,
   "metadata": {},
   "outputs": [],
   "source": [
    "dict={'Name':['Aqeel','Ali','Awais'],\n",
    "      'Marks':[70,62,80],\n",
    "      'City':['Musa Khel','Marmandi','Mianwali']}"
   ]
  },
  {
   "cell_type": "code",
   "execution_count": 124,
   "metadata": {},
   "outputs": [],
   "source": [
    "df=pd.DataFrame(dict)"
   ]
  },
  {
   "cell_type": "code",
   "execution_count": 125,
   "metadata": {},
   "outputs": [
    {
     "data": {
      "text/html": [
       "<div>\n",
       "<style scoped>\n",
       "    .dataframe tbody tr th:only-of-type {\n",
       "        vertical-align: middle;\n",
       "    }\n",
       "\n",
       "    .dataframe tbody tr th {\n",
       "        vertical-align: top;\n",
       "    }\n",
       "\n",
       "    .dataframe thead th {\n",
       "        text-align: right;\n",
       "    }\n",
       "</style>\n",
       "<table border=\"1\" class=\"dataframe\">\n",
       "  <thead>\n",
       "    <tr style=\"text-align: right;\">\n",
       "      <th></th>\n",
       "      <th>Name</th>\n",
       "      <th>Marks</th>\n",
       "      <th>City</th>\n",
       "    </tr>\n",
       "  </thead>\n",
       "  <tbody>\n",
       "    <tr>\n",
       "      <th>0</th>\n",
       "      <td>Aqeel</td>\n",
       "      <td>70</td>\n",
       "      <td>Musa Khel</td>\n",
       "    </tr>\n",
       "    <tr>\n",
       "      <th>1</th>\n",
       "      <td>Ali</td>\n",
       "      <td>62</td>\n",
       "      <td>Marmandi</td>\n",
       "    </tr>\n",
       "    <tr>\n",
       "      <th>2</th>\n",
       "      <td>Awais</td>\n",
       "      <td>80</td>\n",
       "      <td>Mianwali</td>\n",
       "    </tr>\n",
       "  </tbody>\n",
       "</table>\n",
       "</div>"
      ],
      "text/plain": [
       "    Name  Marks       City\n",
       "0  Aqeel     70  Musa Khel\n",
       "1    Ali     62   Marmandi\n",
       "2  Awais     80   Mianwali"
      ]
     },
     "execution_count": 125,
     "metadata": {},
     "output_type": "execute_result"
    }
   ],
   "source": [
    "df"
   ]
  },
  {
   "cell_type": "code",
   "execution_count": 126,
   "metadata": {},
   "outputs": [],
   "source": [
    "df.to_csv('mydata.csv')"
   ]
  },
  {
   "cell_type": "markdown",
   "metadata": {},
   "source": [
    "**If you don't want indexes in your csv file while saving dataframes in it.**"
   ]
  },
  {
   "cell_type": "code",
   "execution_count": 127,
   "metadata": {},
   "outputs": [],
   "source": [
    "df.to_csv(\"no_index.csv\",index=False)"
   ]
  },
  {
   "cell_type": "code",
   "execution_count": 128,
   "metadata": {},
   "outputs": [
    {
     "data": {
      "text/html": [
       "<div>\n",
       "<style scoped>\n",
       "    .dataframe tbody tr th:only-of-type {\n",
       "        vertical-align: middle;\n",
       "    }\n",
       "\n",
       "    .dataframe tbody tr th {\n",
       "        vertical-align: top;\n",
       "    }\n",
       "\n",
       "    .dataframe thead th {\n",
       "        text-align: right;\n",
       "    }\n",
       "</style>\n",
       "<table border=\"1\" class=\"dataframe\">\n",
       "  <thead>\n",
       "    <tr style=\"text-align: right;\">\n",
       "      <th></th>\n",
       "      <th>Name</th>\n",
       "      <th>Marks</th>\n",
       "      <th>City</th>\n",
       "    </tr>\n",
       "  </thead>\n",
       "  <tbody>\n",
       "    <tr>\n",
       "      <th>0</th>\n",
       "      <td>Aqeel</td>\n",
       "      <td>70</td>\n",
       "      <td>Musa Khel</td>\n",
       "    </tr>\n",
       "    <tr>\n",
       "      <th>1</th>\n",
       "      <td>Ali</td>\n",
       "      <td>62</td>\n",
       "      <td>Marmandi</td>\n",
       "    </tr>\n",
       "  </tbody>\n",
       "</table>\n",
       "</div>"
      ],
      "text/plain": [
       "    Name  Marks       City\n",
       "0  Aqeel     70  Musa Khel\n",
       "1    Ali     62   Marmandi"
      ]
     },
     "execution_count": 128,
     "metadata": {},
     "output_type": "execute_result"
    }
   ],
   "source": [
    "df.head(2)"
   ]
  },
  {
   "cell_type": "code",
   "execution_count": 129,
   "metadata": {},
   "outputs": [
    {
     "data": {
      "text/html": [
       "<div>\n",
       "<style scoped>\n",
       "    .dataframe tbody tr th:only-of-type {\n",
       "        vertical-align: middle;\n",
       "    }\n",
       "\n",
       "    .dataframe tbody tr th {\n",
       "        vertical-align: top;\n",
       "    }\n",
       "\n",
       "    .dataframe thead th {\n",
       "        text-align: right;\n",
       "    }\n",
       "</style>\n",
       "<table border=\"1\" class=\"dataframe\">\n",
       "  <thead>\n",
       "    <tr style=\"text-align: right;\">\n",
       "      <th></th>\n",
       "      <th>Name</th>\n",
       "      <th>Marks</th>\n",
       "      <th>City</th>\n",
       "    </tr>\n",
       "  </thead>\n",
       "  <tbody>\n",
       "    <tr>\n",
       "      <th>1</th>\n",
       "      <td>Ali</td>\n",
       "      <td>62</td>\n",
       "      <td>Marmandi</td>\n",
       "    </tr>\n",
       "    <tr>\n",
       "      <th>2</th>\n",
       "      <td>Awais</td>\n",
       "      <td>80</td>\n",
       "      <td>Mianwali</td>\n",
       "    </tr>\n",
       "  </tbody>\n",
       "</table>\n",
       "</div>"
      ],
      "text/plain": [
       "    Name  Marks      City\n",
       "1    Ali     62  Marmandi\n",
       "2  Awais     80  Mianwali"
      ]
     },
     "execution_count": 129,
     "metadata": {},
     "output_type": "execute_result"
    }
   ],
   "source": [
    "df.tail(2)"
   ]
  },
  {
   "cell_type": "markdown",
   "metadata": {},
   "source": [
    "describe()  apply some statistic on out numerical columns"
   ]
  },
  {
   "cell_type": "code",
   "execution_count": 130,
   "metadata": {},
   "outputs": [
    {
     "data": {
      "text/html": [
       "<div>\n",
       "<style scoped>\n",
       "    .dataframe tbody tr th:only-of-type {\n",
       "        vertical-align: middle;\n",
       "    }\n",
       "\n",
       "    .dataframe tbody tr th {\n",
       "        vertical-align: top;\n",
       "    }\n",
       "\n",
       "    .dataframe thead th {\n",
       "        text-align: right;\n",
       "    }\n",
       "</style>\n",
       "<table border=\"1\" class=\"dataframe\">\n",
       "  <thead>\n",
       "    <tr style=\"text-align: right;\">\n",
       "      <th></th>\n",
       "      <th>Marks</th>\n",
       "    </tr>\n",
       "  </thead>\n",
       "  <tbody>\n",
       "    <tr>\n",
       "      <th>count</th>\n",
       "      <td>3.000000</td>\n",
       "    </tr>\n",
       "    <tr>\n",
       "      <th>mean</th>\n",
       "      <td>70.666667</td>\n",
       "    </tr>\n",
       "    <tr>\n",
       "      <th>std</th>\n",
       "      <td>9.018500</td>\n",
       "    </tr>\n",
       "    <tr>\n",
       "      <th>min</th>\n",
       "      <td>62.000000</td>\n",
       "    </tr>\n",
       "    <tr>\n",
       "      <th>25%</th>\n",
       "      <td>66.000000</td>\n",
       "    </tr>\n",
       "    <tr>\n",
       "      <th>50%</th>\n",
       "      <td>70.000000</td>\n",
       "    </tr>\n",
       "    <tr>\n",
       "      <th>75%</th>\n",
       "      <td>75.000000</td>\n",
       "    </tr>\n",
       "    <tr>\n",
       "      <th>max</th>\n",
       "      <td>80.000000</td>\n",
       "    </tr>\n",
       "  </tbody>\n",
       "</table>\n",
       "</div>"
      ],
      "text/plain": [
       "           Marks\n",
       "count   3.000000\n",
       "mean   70.666667\n",
       "std     9.018500\n",
       "min    62.000000\n",
       "25%    66.000000\n",
       "50%    70.000000\n",
       "75%    75.000000\n",
       "max    80.000000"
      ]
     },
     "execution_count": 130,
     "metadata": {},
     "output_type": "execute_result"
    }
   ],
   "source": [
    "df.describe() "
   ]
  },
  {
   "cell_type": "code",
   "execution_count": 131,
   "metadata": {},
   "outputs": [],
   "source": [
    "train=pd.read_csv('Train.csv')"
   ]
  },
  {
   "cell_type": "code",
   "execution_count": 132,
   "metadata": {},
   "outputs": [
    {
     "data": {
      "text/html": [
       "<div>\n",
       "<style scoped>\n",
       "    .dataframe tbody tr th:only-of-type {\n",
       "        vertical-align: middle;\n",
       "    }\n",
       "\n",
       "    .dataframe tbody tr th {\n",
       "        vertical-align: top;\n",
       "    }\n",
       "\n",
       "    .dataframe thead th {\n",
       "        text-align: right;\n",
       "    }\n",
       "</style>\n",
       "<table border=\"1\" class=\"dataframe\">\n",
       "  <thead>\n",
       "    <tr style=\"text-align: right;\">\n",
       "      <th></th>\n",
       "      <th>Train no</th>\n",
       "      <th>Speed</th>\n",
       "      <th>City</th>\n",
       "    </tr>\n",
       "  </thead>\n",
       "  <tbody>\n",
       "    <tr>\n",
       "      <th>0</th>\n",
       "      <td>3424</td>\n",
       "      <td>60</td>\n",
       "      <td>Musa Khel</td>\n",
       "    </tr>\n",
       "    <tr>\n",
       "      <th>1</th>\n",
       "      <td>7453</td>\n",
       "      <td>75</td>\n",
       "      <td>Marmandi</td>\n",
       "    </tr>\n",
       "    <tr>\n",
       "      <th>2</th>\n",
       "      <td>3452</td>\n",
       "      <td>97</td>\n",
       "      <td>Mianwali</td>\n",
       "    </tr>\n",
       "  </tbody>\n",
       "</table>\n",
       "</div>"
      ],
      "text/plain": [
       "   Train no  Speed       City\n",
       "0      3424     60  Musa Khel\n",
       "1      7453     75   Marmandi\n",
       "2      3452     97   Mianwali"
      ]
     },
     "execution_count": 132,
     "metadata": {},
     "output_type": "execute_result"
    }
   ],
   "source": [
    "train"
   ]
  },
  {
   "cell_type": "markdown",
   "metadata": {},
   "source": [
    "**Getting specific column**\n"
   ]
  },
  {
   "cell_type": "code",
   "execution_count": 133,
   "metadata": {},
   "outputs": [
    {
     "data": {
      "text/plain": [
       "0    60\n",
       "1    75\n",
       "2    97\n",
       "Name: Speed, dtype: int64"
      ]
     },
     "execution_count": 133,
     "metadata": {},
     "output_type": "execute_result"
    }
   ],
   "source": [
    "train['Speed']"
   ]
  },
  {
   "cell_type": "code",
   "execution_count": 134,
   "metadata": {},
   "outputs": [
    {
     "data": {
      "text/plain": [
       "0    3424\n",
       "1    7453\n",
       "2    3452\n",
       "Name: Train no, dtype: int64"
      ]
     },
     "execution_count": 134,
     "metadata": {},
     "output_type": "execute_result"
    }
   ],
   "source": [
    "train['Train no']"
   ]
  },
  {
   "cell_type": "code",
   "execution_count": 135,
   "metadata": {},
   "outputs": [
    {
     "data": {
      "text/plain": [
       "0    Musa Khel\n",
       "1     Marmandi\n",
       "2     Mianwali\n",
       "Name: City, dtype: object"
      ]
     },
     "execution_count": 135,
     "metadata": {},
     "output_type": "execute_result"
    }
   ],
   "source": [
    "train['City']"
   ]
  },
  {
   "cell_type": "code",
   "execution_count": 136,
   "metadata": {},
   "outputs": [
    {
     "data": {
      "text/plain": [
       "60"
      ]
     },
     "execution_count": 136,
     "metadata": {},
     "output_type": "execute_result"
    }
   ],
   "source": [
    "train['Speed'][0]"
   ]
  },
  {
   "cell_type": "code",
   "execution_count": 137,
   "metadata": {},
   "outputs": [
    {
     "name": "stderr",
     "output_type": "stream",
     "text": [
      "C:\\Users\\This PC\\AppData\\Local\\Temp\\ipykernel_6476\\3611316110.py:1: SettingWithCopyWarning: \n",
      "A value is trying to be set on a copy of a slice from a DataFrame\n",
      "\n",
      "See the caveats in the documentation: https://pandas.pydata.org/pandas-docs/stable/user_guide/indexing.html#returning-a-view-versus-a-copy\n",
      "  train['Speed'][0]=60\n"
     ]
    }
   ],
   "source": [
    "train['Speed'][0]=60"
   ]
  },
  {
   "cell_type": "code",
   "execution_count": 138,
   "metadata": {},
   "outputs": [
    {
     "data": {
      "text/html": [
       "<div>\n",
       "<style scoped>\n",
       "    .dataframe tbody tr th:only-of-type {\n",
       "        vertical-align: middle;\n",
       "    }\n",
       "\n",
       "    .dataframe tbody tr th {\n",
       "        vertical-align: top;\n",
       "    }\n",
       "\n",
       "    .dataframe thead th {\n",
       "        text-align: right;\n",
       "    }\n",
       "</style>\n",
       "<table border=\"1\" class=\"dataframe\">\n",
       "  <thead>\n",
       "    <tr style=\"text-align: right;\">\n",
       "      <th></th>\n",
       "      <th>Train no</th>\n",
       "      <th>Speed</th>\n",
       "      <th>City</th>\n",
       "    </tr>\n",
       "  </thead>\n",
       "  <tbody>\n",
       "    <tr>\n",
       "      <th>0</th>\n",
       "      <td>3424</td>\n",
       "      <td>60</td>\n",
       "      <td>Musa Khel</td>\n",
       "    </tr>\n",
       "    <tr>\n",
       "      <th>1</th>\n",
       "      <td>7453</td>\n",
       "      <td>75</td>\n",
       "      <td>Marmandi</td>\n",
       "    </tr>\n",
       "    <tr>\n",
       "      <th>2</th>\n",
       "      <td>3452</td>\n",
       "      <td>97</td>\n",
       "      <td>Mianwali</td>\n",
       "    </tr>\n",
       "  </tbody>\n",
       "</table>\n",
       "</div>"
      ],
      "text/plain": [
       "   Train no  Speed       City\n",
       "0      3424     60  Musa Khel\n",
       "1      7453     75   Marmandi\n",
       "2      3452     97   Mianwali"
      ]
     },
     "execution_count": 138,
     "metadata": {},
     "output_type": "execute_result"
    }
   ],
   "source": [
    "train"
   ]
  },
  {
   "cell_type": "code",
   "execution_count": 139,
   "metadata": {},
   "outputs": [],
   "source": [
    "train.to_csv('Train.csv',index=False)"
   ]
  },
  {
   "cell_type": "code",
   "execution_count": 140,
   "metadata": {},
   "outputs": [],
   "source": [
    "train.index=['first','second','third'] #changing the names of the index"
   ]
  },
  {
   "cell_type": "code",
   "execution_count": 141,
   "metadata": {},
   "outputs": [
    {
     "data": {
      "text/html": [
       "<div>\n",
       "<style scoped>\n",
       "    .dataframe tbody tr th:only-of-type {\n",
       "        vertical-align: middle;\n",
       "    }\n",
       "\n",
       "    .dataframe tbody tr th {\n",
       "        vertical-align: top;\n",
       "    }\n",
       "\n",
       "    .dataframe thead th {\n",
       "        text-align: right;\n",
       "    }\n",
       "</style>\n",
       "<table border=\"1\" class=\"dataframe\">\n",
       "  <thead>\n",
       "    <tr style=\"text-align: right;\">\n",
       "      <th></th>\n",
       "      <th>Train no</th>\n",
       "      <th>Speed</th>\n",
       "      <th>City</th>\n",
       "    </tr>\n",
       "  </thead>\n",
       "  <tbody>\n",
       "    <tr>\n",
       "      <th>first</th>\n",
       "      <td>3424</td>\n",
       "      <td>60</td>\n",
       "      <td>Musa Khel</td>\n",
       "    </tr>\n",
       "    <tr>\n",
       "      <th>second</th>\n",
       "      <td>7453</td>\n",
       "      <td>75</td>\n",
       "      <td>Marmandi</td>\n",
       "    </tr>\n",
       "    <tr>\n",
       "      <th>third</th>\n",
       "      <td>3452</td>\n",
       "      <td>97</td>\n",
       "      <td>Mianwali</td>\n",
       "    </tr>\n",
       "  </tbody>\n",
       "</table>\n",
       "</div>"
      ],
      "text/plain": [
       "        Train no  Speed       City\n",
       "first       3424     60  Musa Khel\n",
       "second      7453     75   Marmandi\n",
       "third       3452     97   Mianwali"
      ]
     },
     "execution_count": 141,
     "metadata": {},
     "output_type": "execute_result"
    }
   ],
   "source": [
    "train"
   ]
  },
  {
   "cell_type": "markdown",
   "metadata": {},
   "source": [
    "**But the best way is to index name should numbers and columns have their own names**"
   ]
  },
  {
   "cell_type": "code",
   "execution_count": 142,
   "metadata": {},
   "outputs": [],
   "source": [
    "train.index=[0,1,2] #indexes should equal to the total numbers of rows"
   ]
  },
  {
   "cell_type": "code",
   "execution_count": 143,
   "metadata": {},
   "outputs": [
    {
     "data": {
      "text/html": [
       "<div>\n",
       "<style scoped>\n",
       "    .dataframe tbody tr th:only-of-type {\n",
       "        vertical-align: middle;\n",
       "    }\n",
       "\n",
       "    .dataframe tbody tr th {\n",
       "        vertical-align: top;\n",
       "    }\n",
       "\n",
       "    .dataframe thead th {\n",
       "        text-align: right;\n",
       "    }\n",
       "</style>\n",
       "<table border=\"1\" class=\"dataframe\">\n",
       "  <thead>\n",
       "    <tr style=\"text-align: right;\">\n",
       "      <th></th>\n",
       "      <th>Train no</th>\n",
       "      <th>Speed</th>\n",
       "      <th>City</th>\n",
       "    </tr>\n",
       "  </thead>\n",
       "  <tbody>\n",
       "    <tr>\n",
       "      <th>0</th>\n",
       "      <td>3424</td>\n",
       "      <td>60</td>\n",
       "      <td>Musa Khel</td>\n",
       "    </tr>\n",
       "    <tr>\n",
       "      <th>1</th>\n",
       "      <td>7453</td>\n",
       "      <td>75</td>\n",
       "      <td>Marmandi</td>\n",
       "    </tr>\n",
       "    <tr>\n",
       "      <th>2</th>\n",
       "      <td>3452</td>\n",
       "      <td>97</td>\n",
       "      <td>Mianwali</td>\n",
       "    </tr>\n",
       "  </tbody>\n",
       "</table>\n",
       "</div>"
      ],
      "text/plain": [
       "   Train no  Speed       City\n",
       "0      3424     60  Musa Khel\n",
       "1      7453     75   Marmandi\n",
       "2      3452     97   Mianwali"
      ]
     },
     "execution_count": 143,
     "metadata": {},
     "output_type": "execute_result"
    }
   ],
   "source": [
    "train"
   ]
  },
  {
   "cell_type": "code",
   "execution_count": 144,
   "metadata": {},
   "outputs": [
    {
     "data": {
      "text/plain": [
       "7453"
      ]
     },
     "execution_count": 144,
     "metadata": {},
     "output_type": "execute_result"
    }
   ],
   "source": [
    "train['Train no'].max()"
   ]
  },
  {
   "cell_type": "markdown",
   "metadata": {},
   "source": [
    "**Panda series**"
   ]
  },
  {
   "cell_type": "code",
   "execution_count": 145,
   "metadata": {},
   "outputs": [],
   "source": [
    "ser= pd.Series([1,2,3,4,5])"
   ]
  },
  {
   "cell_type": "code",
   "execution_count": 146,
   "metadata": {},
   "outputs": [
    {
     "data": {
      "text/plain": [
       "0    1\n",
       "1    2\n",
       "2    3\n",
       "3    4\n",
       "4    5\n",
       "dtype: int64"
      ]
     },
     "execution_count": 146,
     "metadata": {},
     "output_type": "execute_result"
    }
   ],
   "source": [
    "ser #series are like our columns"
   ]
  },
  {
   "cell_type": "code",
   "execution_count": 147,
   "metadata": {},
   "outputs": [],
   "source": [
    "ser=pd.Series(np.random.randint(np.arange(1,6)))"
   ]
  },
  {
   "cell_type": "code",
   "execution_count": 148,
   "metadata": {},
   "outputs": [
    {
     "data": {
      "text/plain": [
       "pandas.core.series.Series"
      ]
     },
     "execution_count": 148,
     "metadata": {},
     "output_type": "execute_result"
    }
   ],
   "source": [
    "type(ser)"
   ]
  },
  {
   "cell_type": "code",
   "execution_count": 149,
   "metadata": {},
   "outputs": [
    {
     "data": {
      "text/plain": [
       "0    0\n",
       "1    0\n",
       "2    2\n",
       "3    0\n",
       "4    3\n",
       "dtype: int32"
      ]
     },
     "execution_count": 149,
     "metadata": {},
     "output_type": "execute_result"
    }
   ],
   "source": [
    "ser"
   ]
  },
  {
   "cell_type": "markdown",
   "metadata": {},
   "source": [
    "**New dataframe**"
   ]
  },
  {
   "cell_type": "code",
   "execution_count": 150,
   "metadata": {},
   "outputs": [],
   "source": [
    "newdf=pd.DataFrame(np.random.rand(334,5))"
   ]
  },
  {
   "cell_type": "code",
   "execution_count": 151,
   "metadata": {},
   "outputs": [
    {
     "data": {
      "text/html": [
       "<div>\n",
       "<style scoped>\n",
       "    .dataframe tbody tr th:only-of-type {\n",
       "        vertical-align: middle;\n",
       "    }\n",
       "\n",
       "    .dataframe tbody tr th {\n",
       "        vertical-align: top;\n",
       "    }\n",
       "\n",
       "    .dataframe thead th {\n",
       "        text-align: right;\n",
       "    }\n",
       "</style>\n",
       "<table border=\"1\" class=\"dataframe\">\n",
       "  <thead>\n",
       "    <tr style=\"text-align: right;\">\n",
       "      <th></th>\n",
       "      <th>0</th>\n",
       "      <th>1</th>\n",
       "      <th>2</th>\n",
       "      <th>3</th>\n",
       "      <th>4</th>\n",
       "    </tr>\n",
       "  </thead>\n",
       "  <tbody>\n",
       "    <tr>\n",
       "      <th>count</th>\n",
       "      <td>334.000000</td>\n",
       "      <td>334.000000</td>\n",
       "      <td>334.000000</td>\n",
       "      <td>334.000000</td>\n",
       "      <td>334.000000</td>\n",
       "    </tr>\n",
       "    <tr>\n",
       "      <th>mean</th>\n",
       "      <td>0.488012</td>\n",
       "      <td>0.503184</td>\n",
       "      <td>0.476156</td>\n",
       "      <td>0.501345</td>\n",
       "      <td>0.507616</td>\n",
       "    </tr>\n",
       "    <tr>\n",
       "      <th>std</th>\n",
       "      <td>0.269750</td>\n",
       "      <td>0.301042</td>\n",
       "      <td>0.277147</td>\n",
       "      <td>0.295781</td>\n",
       "      <td>0.285147</td>\n",
       "    </tr>\n",
       "    <tr>\n",
       "      <th>min</th>\n",
       "      <td>0.001751</td>\n",
       "      <td>0.003791</td>\n",
       "      <td>0.014813</td>\n",
       "      <td>0.002802</td>\n",
       "      <td>0.003556</td>\n",
       "    </tr>\n",
       "    <tr>\n",
       "      <th>25%</th>\n",
       "      <td>0.280255</td>\n",
       "      <td>0.232203</td>\n",
       "      <td>0.242642</td>\n",
       "      <td>0.237723</td>\n",
       "      <td>0.274103</td>\n",
       "    </tr>\n",
       "    <tr>\n",
       "      <th>50%</th>\n",
       "      <td>0.495361</td>\n",
       "      <td>0.507391</td>\n",
       "      <td>0.459945</td>\n",
       "      <td>0.518300</td>\n",
       "      <td>0.549148</td>\n",
       "    </tr>\n",
       "    <tr>\n",
       "      <th>75%</th>\n",
       "      <td>0.701642</td>\n",
       "      <td>0.764816</td>\n",
       "      <td>0.713453</td>\n",
       "      <td>0.765173</td>\n",
       "      <td>0.741264</td>\n",
       "    </tr>\n",
       "    <tr>\n",
       "      <th>max</th>\n",
       "      <td>0.997988</td>\n",
       "      <td>0.998686</td>\n",
       "      <td>0.998167</td>\n",
       "      <td>0.999286</td>\n",
       "      <td>0.996575</td>\n",
       "    </tr>\n",
       "  </tbody>\n",
       "</table>\n",
       "</div>"
      ],
      "text/plain": [
       "                0           1           2           3           4\n",
       "count  334.000000  334.000000  334.000000  334.000000  334.000000\n",
       "mean     0.488012    0.503184    0.476156    0.501345    0.507616\n",
       "std      0.269750    0.301042    0.277147    0.295781    0.285147\n",
       "min      0.001751    0.003791    0.014813    0.002802    0.003556\n",
       "25%      0.280255    0.232203    0.242642    0.237723    0.274103\n",
       "50%      0.495361    0.507391    0.459945    0.518300    0.549148\n",
       "75%      0.701642    0.764816    0.713453    0.765173    0.741264\n",
       "max      0.997988    0.998686    0.998167    0.999286    0.996575"
      ]
     },
     "execution_count": 151,
     "metadata": {},
     "output_type": "execute_result"
    }
   ],
   "source": [
    "newdf.describe()"
   ]
  },
  {
   "cell_type": "code",
   "execution_count": 152,
   "metadata": {},
   "outputs": [
    {
     "data": {
      "text/plain": [
       "<bound method DataFrame.info of             0         1         2         3         4\n",
       "0    0.761896  0.992037  0.970444  0.388839  0.991661\n",
       "1    0.537061  0.369353  0.815880  0.611399  0.376320\n",
       "2    0.812868  0.452920  0.388345  0.074300  0.564708\n",
       "3    0.441285  0.862606  0.668626  0.678420  0.161843\n",
       "4    0.080405  0.689312  0.194074  0.604543  0.740716\n",
       "..        ...       ...       ...       ...       ...\n",
       "329  0.337686  0.930909  0.736689  0.680936  0.805624\n",
       "330  0.076420  0.281268  0.724187  0.070705  0.294110\n",
       "331  0.765668  0.673129  0.966068  0.885469  0.367636\n",
       "332  0.474802  0.566986  0.046846  0.682673  0.694738\n",
       "333  0.196133  0.507601  0.626752  0.081347  0.004299\n",
       "\n",
       "[334 rows x 5 columns]>"
      ]
     },
     "execution_count": 152,
     "metadata": {},
     "output_type": "execute_result"
    }
   ],
   "source": [
    "newdf.info"
   ]
  },
  {
   "cell_type": "code",
   "execution_count": 153,
   "metadata": {},
   "outputs": [
    {
     "data": {
      "text/plain": [
       "0    float64\n",
       "1    float64\n",
       "2    float64\n",
       "3    float64\n",
       "4    float64\n",
       "dtype: object"
      ]
     },
     "execution_count": 153,
     "metadata": {},
     "output_type": "execute_result"
    }
   ],
   "source": [
    "newdf.dtypes"
   ]
  },
  {
   "cell_type": "code",
   "execution_count": 154,
   "metadata": {},
   "outputs": [
    {
     "data": {
      "text/html": [
       "<div>\n",
       "<style scoped>\n",
       "    .dataframe tbody tr th:only-of-type {\n",
       "        vertical-align: middle;\n",
       "    }\n",
       "\n",
       "    .dataframe tbody tr th {\n",
       "        vertical-align: top;\n",
       "    }\n",
       "\n",
       "    .dataframe thead th {\n",
       "        text-align: right;\n",
       "    }\n",
       "</style>\n",
       "<table border=\"1\" class=\"dataframe\">\n",
       "  <thead>\n",
       "    <tr style=\"text-align: right;\">\n",
       "      <th></th>\n",
       "      <th>0</th>\n",
       "      <th>1</th>\n",
       "      <th>2</th>\n",
       "      <th>3</th>\n",
       "      <th>4</th>\n",
       "    </tr>\n",
       "  </thead>\n",
       "  <tbody>\n",
       "    <tr>\n",
       "      <th>0</th>\n",
       "      <td>0.761896</td>\n",
       "      <td>0.992037</td>\n",
       "      <td>0.970444</td>\n",
       "      <td>0.388839</td>\n",
       "      <td>0.991661</td>\n",
       "    </tr>\n",
       "    <tr>\n",
       "      <th>1</th>\n",
       "      <td>0.537061</td>\n",
       "      <td>0.369353</td>\n",
       "      <td>0.815880</td>\n",
       "      <td>0.611399</td>\n",
       "      <td>0.376320</td>\n",
       "    </tr>\n",
       "    <tr>\n",
       "      <th>2</th>\n",
       "      <td>0.812868</td>\n",
       "      <td>0.452920</td>\n",
       "      <td>0.388345</td>\n",
       "      <td>0.074300</td>\n",
       "      <td>0.564708</td>\n",
       "    </tr>\n",
       "    <tr>\n",
       "      <th>3</th>\n",
       "      <td>0.441285</td>\n",
       "      <td>0.862606</td>\n",
       "      <td>0.668626</td>\n",
       "      <td>0.678420</td>\n",
       "      <td>0.161843</td>\n",
       "    </tr>\n",
       "    <tr>\n",
       "      <th>4</th>\n",
       "      <td>0.080405</td>\n",
       "      <td>0.689312</td>\n",
       "      <td>0.194074</td>\n",
       "      <td>0.604543</td>\n",
       "      <td>0.740716</td>\n",
       "    </tr>\n",
       "    <tr>\n",
       "      <th>...</th>\n",
       "      <td>...</td>\n",
       "      <td>...</td>\n",
       "      <td>...</td>\n",
       "      <td>...</td>\n",
       "      <td>...</td>\n",
       "    </tr>\n",
       "    <tr>\n",
       "      <th>329</th>\n",
       "      <td>0.337686</td>\n",
       "      <td>0.930909</td>\n",
       "      <td>0.736689</td>\n",
       "      <td>0.680936</td>\n",
       "      <td>0.805624</td>\n",
       "    </tr>\n",
       "    <tr>\n",
       "      <th>330</th>\n",
       "      <td>0.076420</td>\n",
       "      <td>0.281268</td>\n",
       "      <td>0.724187</td>\n",
       "      <td>0.070705</td>\n",
       "      <td>0.294110</td>\n",
       "    </tr>\n",
       "    <tr>\n",
       "      <th>331</th>\n",
       "      <td>0.765668</td>\n",
       "      <td>0.673129</td>\n",
       "      <td>0.966068</td>\n",
       "      <td>0.885469</td>\n",
       "      <td>0.367636</td>\n",
       "    </tr>\n",
       "    <tr>\n",
       "      <th>332</th>\n",
       "      <td>0.474802</td>\n",
       "      <td>0.566986</td>\n",
       "      <td>0.046846</td>\n",
       "      <td>0.682673</td>\n",
       "      <td>0.694738</td>\n",
       "    </tr>\n",
       "    <tr>\n",
       "      <th>333</th>\n",
       "      <td>0.196133</td>\n",
       "      <td>0.507601</td>\n",
       "      <td>0.626752</td>\n",
       "      <td>0.081347</td>\n",
       "      <td>0.004299</td>\n",
       "    </tr>\n",
       "  </tbody>\n",
       "</table>\n",
       "<p>334 rows × 5 columns</p>\n",
       "</div>"
      ],
      "text/plain": [
       "            0         1         2         3         4\n",
       "0    0.761896  0.992037  0.970444  0.388839  0.991661\n",
       "1    0.537061  0.369353  0.815880  0.611399  0.376320\n",
       "2    0.812868  0.452920  0.388345  0.074300  0.564708\n",
       "3    0.441285  0.862606  0.668626  0.678420  0.161843\n",
       "4    0.080405  0.689312  0.194074  0.604543  0.740716\n",
       "..        ...       ...       ...       ...       ...\n",
       "329  0.337686  0.930909  0.736689  0.680936  0.805624\n",
       "330  0.076420  0.281268  0.724187  0.070705  0.294110\n",
       "331  0.765668  0.673129  0.966068  0.885469  0.367636\n",
       "332  0.474802  0.566986  0.046846  0.682673  0.694738\n",
       "333  0.196133  0.507601  0.626752  0.081347  0.004299\n",
       "\n",
       "[334 rows x 5 columns]"
      ]
     },
     "execution_count": 154,
     "metadata": {},
     "output_type": "execute_result"
    }
   ],
   "source": [
    "newdf"
   ]
  },
  {
   "cell_type": "code",
   "execution_count": 155,
   "metadata": {},
   "outputs": [
    {
     "name": "stderr",
     "output_type": "stream",
     "text": [
      "C:\\Users\\This PC\\AppData\\Local\\Temp\\ipykernel_6476\\3688238585.py:1: FutureWarning: Setting an item of incompatible dtype is deprecated and will raise in a future error of pandas. Value 'Aqeel' has dtype incompatible with float64, please explicitly cast to a compatible dtype first.\n",
      "  newdf[0][0]='Aqeel'\n"
     ]
    }
   ],
   "source": [
    "newdf[0][0]='Aqeel'"
   ]
  },
  {
   "cell_type": "code",
   "execution_count": 156,
   "metadata": {},
   "outputs": [
    {
     "data": {
      "text/plain": [
       "0     object\n",
       "1    float64\n",
       "2    float64\n",
       "3    float64\n",
       "4    float64\n",
       "dtype: object"
      ]
     },
     "execution_count": 156,
     "metadata": {},
     "output_type": "execute_result"
    }
   ],
   "source": [
    "newdf.dtypes"
   ]
  },
  {
   "cell_type": "code",
   "execution_count": 157,
   "metadata": {},
   "outputs": [
    {
     "data": {
      "text/plain": [
       "RangeIndex(start=0, stop=334, step=1)"
      ]
     },
     "execution_count": 157,
     "metadata": {},
     "output_type": "execute_result"
    }
   ],
   "source": [
    "newdf.index"
   ]
  },
  {
   "cell_type": "code",
   "execution_count": 158,
   "metadata": {},
   "outputs": [
    {
     "data": {
      "text/plain": [
       "RangeIndex(start=0, stop=5, step=1)"
      ]
     },
     "execution_count": 158,
     "metadata": {},
     "output_type": "execute_result"
    }
   ],
   "source": [
    "newdf.columns"
   ]
  },
  {
   "cell_type": "code",
   "execution_count": 159,
   "metadata": {},
   "outputs": [],
   "source": [
    "#narr=np.array(newdf)  same as below\n",
    "#narr"
   ]
  },
  {
   "cell_type": "code",
   "execution_count": 160,
   "metadata": {},
   "outputs": [
    {
     "data": {
      "text/plain": [
       "array([['Aqeel', 0.992037452547358, 0.9704435108875563,\n",
       "        0.388838864557991, 0.9916605591570963],\n",
       "       [0.5370611938552184, 0.36935268938612786, 0.8158795299196718,\n",
       "        0.611399204847763, 0.3763198450905494],\n",
       "       [0.8128683031934656, 0.4529203764672489, 0.3883447118780964,\n",
       "        0.07430006121485466, 0.564708378843645],\n",
       "       ...,\n",
       "       [0.7656680574041872, 0.6731292587064018, 0.9660678312878103,\n",
       "        0.8854687268236326, 0.3676360108375333],\n",
       "       [0.47480190888114615, 0.5669859375782172, 0.046846113451273874,\n",
       "        0.6826734154710619, 0.6947377463386525],\n",
       "       [0.19613327832675342, 0.5076010623617415, 0.6267519624222722,\n",
       "        0.08134745983397773, 0.0042986303495148315]], dtype=object)"
      ]
     },
     "execution_count": 160,
     "metadata": {},
     "output_type": "execute_result"
    }
   ],
   "source": [
    "newdf.to_numpy()"
   ]
  },
  {
   "cell_type": "code",
   "execution_count": 161,
   "metadata": {},
   "outputs": [],
   "source": [
    "newdf[0][0]=.42343"
   ]
  },
  {
   "cell_type": "code",
   "execution_count": 162,
   "metadata": {},
   "outputs": [
    {
     "data": {
      "text/html": [
       "<div>\n",
       "<style scoped>\n",
       "    .dataframe tbody tr th:only-of-type {\n",
       "        vertical-align: middle;\n",
       "    }\n",
       "\n",
       "    .dataframe tbody tr th {\n",
       "        vertical-align: top;\n",
       "    }\n",
       "\n",
       "    .dataframe thead th {\n",
       "        text-align: right;\n",
       "    }\n",
       "</style>\n",
       "<table border=\"1\" class=\"dataframe\">\n",
       "  <thead>\n",
       "    <tr style=\"text-align: right;\">\n",
       "      <th></th>\n",
       "      <th>0</th>\n",
       "      <th>1</th>\n",
       "      <th>2</th>\n",
       "      <th>3</th>\n",
       "      <th>4</th>\n",
       "    </tr>\n",
       "  </thead>\n",
       "  <tbody>\n",
       "    <tr>\n",
       "      <th>0</th>\n",
       "      <td>0.42343</td>\n",
       "      <td>0.992037</td>\n",
       "      <td>0.970444</td>\n",
       "      <td>0.388839</td>\n",
       "      <td>0.991661</td>\n",
       "    </tr>\n",
       "    <tr>\n",
       "      <th>1</th>\n",
       "      <td>0.537061</td>\n",
       "      <td>0.369353</td>\n",
       "      <td>0.815880</td>\n",
       "      <td>0.611399</td>\n",
       "      <td>0.376320</td>\n",
       "    </tr>\n",
       "    <tr>\n",
       "      <th>2</th>\n",
       "      <td>0.812868</td>\n",
       "      <td>0.452920</td>\n",
       "      <td>0.388345</td>\n",
       "      <td>0.074300</td>\n",
       "      <td>0.564708</td>\n",
       "    </tr>\n",
       "    <tr>\n",
       "      <th>3</th>\n",
       "      <td>0.441285</td>\n",
       "      <td>0.862606</td>\n",
       "      <td>0.668626</td>\n",
       "      <td>0.678420</td>\n",
       "      <td>0.161843</td>\n",
       "    </tr>\n",
       "    <tr>\n",
       "      <th>4</th>\n",
       "      <td>0.080405</td>\n",
       "      <td>0.689312</td>\n",
       "      <td>0.194074</td>\n",
       "      <td>0.604543</td>\n",
       "      <td>0.740716</td>\n",
       "    </tr>\n",
       "    <tr>\n",
       "      <th>...</th>\n",
       "      <td>...</td>\n",
       "      <td>...</td>\n",
       "      <td>...</td>\n",
       "      <td>...</td>\n",
       "      <td>...</td>\n",
       "    </tr>\n",
       "    <tr>\n",
       "      <th>329</th>\n",
       "      <td>0.337686</td>\n",
       "      <td>0.930909</td>\n",
       "      <td>0.736689</td>\n",
       "      <td>0.680936</td>\n",
       "      <td>0.805624</td>\n",
       "    </tr>\n",
       "    <tr>\n",
       "      <th>330</th>\n",
       "      <td>0.07642</td>\n",
       "      <td>0.281268</td>\n",
       "      <td>0.724187</td>\n",
       "      <td>0.070705</td>\n",
       "      <td>0.294110</td>\n",
       "    </tr>\n",
       "    <tr>\n",
       "      <th>331</th>\n",
       "      <td>0.765668</td>\n",
       "      <td>0.673129</td>\n",
       "      <td>0.966068</td>\n",
       "      <td>0.885469</td>\n",
       "      <td>0.367636</td>\n",
       "    </tr>\n",
       "    <tr>\n",
       "      <th>332</th>\n",
       "      <td>0.474802</td>\n",
       "      <td>0.566986</td>\n",
       "      <td>0.046846</td>\n",
       "      <td>0.682673</td>\n",
       "      <td>0.694738</td>\n",
       "    </tr>\n",
       "    <tr>\n",
       "      <th>333</th>\n",
       "      <td>0.196133</td>\n",
       "      <td>0.507601</td>\n",
       "      <td>0.626752</td>\n",
       "      <td>0.081347</td>\n",
       "      <td>0.004299</td>\n",
       "    </tr>\n",
       "  </tbody>\n",
       "</table>\n",
       "<p>334 rows × 5 columns</p>\n",
       "</div>"
      ],
      "text/plain": [
       "            0         1         2         3         4\n",
       "0     0.42343  0.992037  0.970444  0.388839  0.991661\n",
       "1    0.537061  0.369353  0.815880  0.611399  0.376320\n",
       "2    0.812868  0.452920  0.388345  0.074300  0.564708\n",
       "3    0.441285  0.862606  0.668626  0.678420  0.161843\n",
       "4    0.080405  0.689312  0.194074  0.604543  0.740716\n",
       "..        ...       ...       ...       ...       ...\n",
       "329  0.337686  0.930909  0.736689  0.680936  0.805624\n",
       "330   0.07642  0.281268  0.724187  0.070705  0.294110\n",
       "331  0.765668  0.673129  0.966068  0.885469  0.367636\n",
       "332  0.474802  0.566986  0.046846  0.682673  0.694738\n",
       "333  0.196133  0.507601  0.626752  0.081347  0.004299\n",
       "\n",
       "[334 rows x 5 columns]"
      ]
     },
     "execution_count": 162,
     "metadata": {},
     "output_type": "execute_result"
    }
   ],
   "source": [
    "newdf"
   ]
  },
  {
   "cell_type": "code",
   "execution_count": 163,
   "metadata": {},
   "outputs": [
    {
     "data": {
      "text/plain": [
       "array([[0.42343, 0.992037452547358, 0.9704435108875563,\n",
       "        0.388838864557991, 0.9916605591570963],\n",
       "       [0.5370611938552184, 0.36935268938612786, 0.8158795299196718,\n",
       "        0.611399204847763, 0.3763198450905494],\n",
       "       [0.8128683031934656, 0.4529203764672489, 0.3883447118780964,\n",
       "        0.07430006121485466, 0.564708378843645],\n",
       "       ...,\n",
       "       [0.7656680574041872, 0.6731292587064018, 0.9660678312878103,\n",
       "        0.8854687268236326, 0.3676360108375333],\n",
       "       [0.47480190888114615, 0.5669859375782172, 0.046846113451273874,\n",
       "        0.6826734154710619, 0.6947377463386525],\n",
       "       [0.19613327832675342, 0.5076010623617415, 0.6267519624222722,\n",
       "        0.08134745983397773, 0.0042986303495148315]], dtype=object)"
      ]
     },
     "execution_count": 163,
     "metadata": {},
     "output_type": "execute_result"
    }
   ],
   "source": [
    "newdf.to_numpy()"
   ]
  },
  {
   "cell_type": "code",
   "execution_count": 164,
   "metadata": {},
   "outputs": [
    {
     "data": {
      "text/html": [
       "<div>\n",
       "<style scoped>\n",
       "    .dataframe tbody tr th:only-of-type {\n",
       "        vertical-align: middle;\n",
       "    }\n",
       "\n",
       "    .dataframe tbody tr th {\n",
       "        vertical-align: top;\n",
       "    }\n",
       "\n",
       "    .dataframe thead th {\n",
       "        text-align: right;\n",
       "    }\n",
       "</style>\n",
       "<table border=\"1\" class=\"dataframe\">\n",
       "  <thead>\n",
       "    <tr style=\"text-align: right;\">\n",
       "      <th></th>\n",
       "      <th>0</th>\n",
       "      <th>1</th>\n",
       "      <th>2</th>\n",
       "      <th>3</th>\n",
       "      <th>4</th>\n",
       "      <th>5</th>\n",
       "      <th>6</th>\n",
       "      <th>7</th>\n",
       "      <th>8</th>\n",
       "      <th>9</th>\n",
       "      <th>...</th>\n",
       "      <th>324</th>\n",
       "      <th>325</th>\n",
       "      <th>326</th>\n",
       "      <th>327</th>\n",
       "      <th>328</th>\n",
       "      <th>329</th>\n",
       "      <th>330</th>\n",
       "      <th>331</th>\n",
       "      <th>332</th>\n",
       "      <th>333</th>\n",
       "    </tr>\n",
       "  </thead>\n",
       "  <tbody>\n",
       "    <tr>\n",
       "      <th>0</th>\n",
       "      <td>0.42343</td>\n",
       "      <td>0.537061</td>\n",
       "      <td>0.812868</td>\n",
       "      <td>0.441285</td>\n",
       "      <td>0.080405</td>\n",
       "      <td>0.119521</td>\n",
       "      <td>0.25941</td>\n",
       "      <td>0.553447</td>\n",
       "      <td>0.33034</td>\n",
       "      <td>0.426375</td>\n",
       "      <td>...</td>\n",
       "      <td>0.684207</td>\n",
       "      <td>0.970611</td>\n",
       "      <td>0.541285</td>\n",
       "      <td>0.95821</td>\n",
       "      <td>0.634895</td>\n",
       "      <td>0.337686</td>\n",
       "      <td>0.07642</td>\n",
       "      <td>0.765668</td>\n",
       "      <td>0.474802</td>\n",
       "      <td>0.196133</td>\n",
       "    </tr>\n",
       "    <tr>\n",
       "      <th>1</th>\n",
       "      <td>0.992037</td>\n",
       "      <td>0.369353</td>\n",
       "      <td>0.45292</td>\n",
       "      <td>0.862606</td>\n",
       "      <td>0.689312</td>\n",
       "      <td>0.109382</td>\n",
       "      <td>0.554595</td>\n",
       "      <td>0.451955</td>\n",
       "      <td>0.893192</td>\n",
       "      <td>0.209881</td>\n",
       "      <td>...</td>\n",
       "      <td>0.519025</td>\n",
       "      <td>0.323212</td>\n",
       "      <td>0.94789</td>\n",
       "      <td>0.711026</td>\n",
       "      <td>0.48103</td>\n",
       "      <td>0.930909</td>\n",
       "      <td>0.281268</td>\n",
       "      <td>0.673129</td>\n",
       "      <td>0.566986</td>\n",
       "      <td>0.507601</td>\n",
       "    </tr>\n",
       "    <tr>\n",
       "      <th>2</th>\n",
       "      <td>0.970444</td>\n",
       "      <td>0.81588</td>\n",
       "      <td>0.388345</td>\n",
       "      <td>0.668626</td>\n",
       "      <td>0.194074</td>\n",
       "      <td>0.168092</td>\n",
       "      <td>0.262283</td>\n",
       "      <td>0.660643</td>\n",
       "      <td>0.499563</td>\n",
       "      <td>0.637167</td>\n",
       "      <td>...</td>\n",
       "      <td>0.033509</td>\n",
       "      <td>0.462716</td>\n",
       "      <td>0.536612</td>\n",
       "      <td>0.67282</td>\n",
       "      <td>0.724562</td>\n",
       "      <td>0.736689</td>\n",
       "      <td>0.724187</td>\n",
       "      <td>0.966068</td>\n",
       "      <td>0.046846</td>\n",
       "      <td>0.626752</td>\n",
       "    </tr>\n",
       "    <tr>\n",
       "      <th>3</th>\n",
       "      <td>0.388839</td>\n",
       "      <td>0.611399</td>\n",
       "      <td>0.0743</td>\n",
       "      <td>0.67842</td>\n",
       "      <td>0.604543</td>\n",
       "      <td>0.214529</td>\n",
       "      <td>0.54278</td>\n",
       "      <td>0.279504</td>\n",
       "      <td>0.459992</td>\n",
       "      <td>0.080047</td>\n",
       "      <td>...</td>\n",
       "      <td>0.392771</td>\n",
       "      <td>0.077026</td>\n",
       "      <td>0.633109</td>\n",
       "      <td>0.25257</td>\n",
       "      <td>0.785365</td>\n",
       "      <td>0.680936</td>\n",
       "      <td>0.070705</td>\n",
       "      <td>0.885469</td>\n",
       "      <td>0.682673</td>\n",
       "      <td>0.081347</td>\n",
       "    </tr>\n",
       "    <tr>\n",
       "      <th>4</th>\n",
       "      <td>0.991661</td>\n",
       "      <td>0.37632</td>\n",
       "      <td>0.564708</td>\n",
       "      <td>0.161843</td>\n",
       "      <td>0.740716</td>\n",
       "      <td>0.180243</td>\n",
       "      <td>0.788287</td>\n",
       "      <td>0.795743</td>\n",
       "      <td>0.169758</td>\n",
       "      <td>0.160045</td>\n",
       "      <td>...</td>\n",
       "      <td>0.996575</td>\n",
       "      <td>0.392748</td>\n",
       "      <td>0.962204</td>\n",
       "      <td>0.554969</td>\n",
       "      <td>0.258388</td>\n",
       "      <td>0.805624</td>\n",
       "      <td>0.29411</td>\n",
       "      <td>0.367636</td>\n",
       "      <td>0.694738</td>\n",
       "      <td>0.004299</td>\n",
       "    </tr>\n",
       "  </tbody>\n",
       "</table>\n",
       "<p>5 rows × 334 columns</p>\n",
       "</div>"
      ],
      "text/plain": [
       "        0         1         2         3         4         5         6    \\\n",
       "0   0.42343  0.537061  0.812868  0.441285  0.080405  0.119521   0.25941   \n",
       "1  0.992037  0.369353   0.45292  0.862606  0.689312  0.109382  0.554595   \n",
       "2  0.970444   0.81588  0.388345  0.668626  0.194074  0.168092  0.262283   \n",
       "3  0.388839  0.611399    0.0743   0.67842  0.604543  0.214529   0.54278   \n",
       "4  0.991661   0.37632  0.564708  0.161843  0.740716  0.180243  0.788287   \n",
       "\n",
       "        7         8         9    ...       324       325       326       327  \\\n",
       "0  0.553447   0.33034  0.426375  ...  0.684207  0.970611  0.541285   0.95821   \n",
       "1  0.451955  0.893192  0.209881  ...  0.519025  0.323212   0.94789  0.711026   \n",
       "2  0.660643  0.499563  0.637167  ...  0.033509  0.462716  0.536612   0.67282   \n",
       "3  0.279504  0.459992  0.080047  ...  0.392771  0.077026  0.633109   0.25257   \n",
       "4  0.795743  0.169758  0.160045  ...  0.996575  0.392748  0.962204  0.554969   \n",
       "\n",
       "        328       329       330       331       332       333  \n",
       "0  0.634895  0.337686   0.07642  0.765668  0.474802  0.196133  \n",
       "1   0.48103  0.930909  0.281268  0.673129  0.566986  0.507601  \n",
       "2  0.724562  0.736689  0.724187  0.966068  0.046846  0.626752  \n",
       "3  0.785365  0.680936  0.070705  0.885469  0.682673  0.081347  \n",
       "4  0.258388  0.805624   0.29411  0.367636  0.694738  0.004299  \n",
       "\n",
       "[5 rows x 334 columns]"
      ]
     },
     "execution_count": 164,
     "metadata": {},
     "output_type": "execute_result"
    }
   ],
   "source": [
    "newdf.T #transpose of the data frame"
   ]
  },
  {
   "cell_type": "code",
   "execution_count": 165,
   "metadata": {},
   "outputs": [
    {
     "data": {
      "text/html": [
       "<div>\n",
       "<style scoped>\n",
       "    .dataframe tbody tr th:only-of-type {\n",
       "        vertical-align: middle;\n",
       "    }\n",
       "\n",
       "    .dataframe tbody tr th {\n",
       "        vertical-align: top;\n",
       "    }\n",
       "\n",
       "    .dataframe thead th {\n",
       "        text-align: right;\n",
       "    }\n",
       "</style>\n",
       "<table border=\"1\" class=\"dataframe\">\n",
       "  <thead>\n",
       "    <tr style=\"text-align: right;\">\n",
       "      <th></th>\n",
       "      <th>0</th>\n",
       "      <th>1</th>\n",
       "      <th>2</th>\n",
       "      <th>3</th>\n",
       "      <th>4</th>\n",
       "    </tr>\n",
       "  </thead>\n",
       "  <tbody>\n",
       "    <tr>\n",
       "      <th>0</th>\n",
       "      <td>0.42343</td>\n",
       "      <td>0.992037</td>\n",
       "      <td>0.970444</td>\n",
       "      <td>0.388839</td>\n",
       "      <td>0.991661</td>\n",
       "    </tr>\n",
       "    <tr>\n",
       "      <th>1</th>\n",
       "      <td>0.537061</td>\n",
       "      <td>0.369353</td>\n",
       "      <td>0.815880</td>\n",
       "      <td>0.611399</td>\n",
       "      <td>0.376320</td>\n",
       "    </tr>\n",
       "    <tr>\n",
       "      <th>2</th>\n",
       "      <td>0.812868</td>\n",
       "      <td>0.452920</td>\n",
       "      <td>0.388345</td>\n",
       "      <td>0.074300</td>\n",
       "      <td>0.564708</td>\n",
       "    </tr>\n",
       "    <tr>\n",
       "      <th>3</th>\n",
       "      <td>0.441285</td>\n",
       "      <td>0.862606</td>\n",
       "      <td>0.668626</td>\n",
       "      <td>0.678420</td>\n",
       "      <td>0.161843</td>\n",
       "    </tr>\n",
       "    <tr>\n",
       "      <th>4</th>\n",
       "      <td>0.080405</td>\n",
       "      <td>0.689312</td>\n",
       "      <td>0.194074</td>\n",
       "      <td>0.604543</td>\n",
       "      <td>0.740716</td>\n",
       "    </tr>\n",
       "  </tbody>\n",
       "</table>\n",
       "</div>"
      ],
      "text/plain": [
       "          0         1         2         3         4\n",
       "0   0.42343  0.992037  0.970444  0.388839  0.991661\n",
       "1  0.537061  0.369353  0.815880  0.611399  0.376320\n",
       "2  0.812868  0.452920  0.388345  0.074300  0.564708\n",
       "3  0.441285  0.862606  0.668626  0.678420  0.161843\n",
       "4  0.080405  0.689312  0.194074  0.604543  0.740716"
      ]
     },
     "execution_count": 165,
     "metadata": {},
     "output_type": "execute_result"
    }
   ],
   "source": [
    "newdf.head()"
   ]
  },
  {
   "cell_type": "code",
   "execution_count": 166,
   "metadata": {},
   "outputs": [
    {
     "data": {
      "text/html": [
       "<div>\n",
       "<style scoped>\n",
       "    .dataframe tbody tr th:only-of-type {\n",
       "        vertical-align: middle;\n",
       "    }\n",
       "\n",
       "    .dataframe tbody tr th {\n",
       "        vertical-align: top;\n",
       "    }\n",
       "\n",
       "    .dataframe thead th {\n",
       "        text-align: right;\n",
       "    }\n",
       "</style>\n",
       "<table border=\"1\" class=\"dataframe\">\n",
       "  <thead>\n",
       "    <tr style=\"text-align: right;\">\n",
       "      <th></th>\n",
       "      <th>0</th>\n",
       "      <th>1</th>\n",
       "      <th>2</th>\n",
       "      <th>3</th>\n",
       "      <th>4</th>\n",
       "    </tr>\n",
       "  </thead>\n",
       "  <tbody>\n",
       "    <tr>\n",
       "      <th>333</th>\n",
       "      <td>0.196133</td>\n",
       "      <td>0.507601</td>\n",
       "      <td>0.626752</td>\n",
       "      <td>0.081347</td>\n",
       "      <td>0.004299</td>\n",
       "    </tr>\n",
       "    <tr>\n",
       "      <th>332</th>\n",
       "      <td>0.474802</td>\n",
       "      <td>0.566986</td>\n",
       "      <td>0.046846</td>\n",
       "      <td>0.682673</td>\n",
       "      <td>0.694738</td>\n",
       "    </tr>\n",
       "    <tr>\n",
       "      <th>331</th>\n",
       "      <td>0.765668</td>\n",
       "      <td>0.673129</td>\n",
       "      <td>0.966068</td>\n",
       "      <td>0.885469</td>\n",
       "      <td>0.367636</td>\n",
       "    </tr>\n",
       "    <tr>\n",
       "      <th>330</th>\n",
       "      <td>0.07642</td>\n",
       "      <td>0.281268</td>\n",
       "      <td>0.724187</td>\n",
       "      <td>0.070705</td>\n",
       "      <td>0.294110</td>\n",
       "    </tr>\n",
       "    <tr>\n",
       "      <th>329</th>\n",
       "      <td>0.337686</td>\n",
       "      <td>0.930909</td>\n",
       "      <td>0.736689</td>\n",
       "      <td>0.680936</td>\n",
       "      <td>0.805624</td>\n",
       "    </tr>\n",
       "    <tr>\n",
       "      <th>...</th>\n",
       "      <td>...</td>\n",
       "      <td>...</td>\n",
       "      <td>...</td>\n",
       "      <td>...</td>\n",
       "      <td>...</td>\n",
       "    </tr>\n",
       "    <tr>\n",
       "      <th>4</th>\n",
       "      <td>0.080405</td>\n",
       "      <td>0.689312</td>\n",
       "      <td>0.194074</td>\n",
       "      <td>0.604543</td>\n",
       "      <td>0.740716</td>\n",
       "    </tr>\n",
       "    <tr>\n",
       "      <th>3</th>\n",
       "      <td>0.441285</td>\n",
       "      <td>0.862606</td>\n",
       "      <td>0.668626</td>\n",
       "      <td>0.678420</td>\n",
       "      <td>0.161843</td>\n",
       "    </tr>\n",
       "    <tr>\n",
       "      <th>2</th>\n",
       "      <td>0.812868</td>\n",
       "      <td>0.452920</td>\n",
       "      <td>0.388345</td>\n",
       "      <td>0.074300</td>\n",
       "      <td>0.564708</td>\n",
       "    </tr>\n",
       "    <tr>\n",
       "      <th>1</th>\n",
       "      <td>0.537061</td>\n",
       "      <td>0.369353</td>\n",
       "      <td>0.815880</td>\n",
       "      <td>0.611399</td>\n",
       "      <td>0.376320</td>\n",
       "    </tr>\n",
       "    <tr>\n",
       "      <th>0</th>\n",
       "      <td>0.42343</td>\n",
       "      <td>0.992037</td>\n",
       "      <td>0.970444</td>\n",
       "      <td>0.388839</td>\n",
       "      <td>0.991661</td>\n",
       "    </tr>\n",
       "  </tbody>\n",
       "</table>\n",
       "<p>334 rows × 5 columns</p>\n",
       "</div>"
      ],
      "text/plain": [
       "            0         1         2         3         4\n",
       "333  0.196133  0.507601  0.626752  0.081347  0.004299\n",
       "332  0.474802  0.566986  0.046846  0.682673  0.694738\n",
       "331  0.765668  0.673129  0.966068  0.885469  0.367636\n",
       "330   0.07642  0.281268  0.724187  0.070705  0.294110\n",
       "329  0.337686  0.930909  0.736689  0.680936  0.805624\n",
       "..        ...       ...       ...       ...       ...\n",
       "4    0.080405  0.689312  0.194074  0.604543  0.740716\n",
       "3    0.441285  0.862606  0.668626  0.678420  0.161843\n",
       "2    0.812868  0.452920  0.388345  0.074300  0.564708\n",
       "1    0.537061  0.369353  0.815880  0.611399  0.376320\n",
       "0     0.42343  0.992037  0.970444  0.388839  0.991661\n",
       "\n",
       "[334 rows x 5 columns]"
      ]
     },
     "execution_count": 166,
     "metadata": {},
     "output_type": "execute_result"
    }
   ],
   "source": [
    "newdf.sort_index(axis=0,ascending=False) #sorted in descending oreder"
   ]
  },
  {
   "cell_type": "code",
   "execution_count": 167,
   "metadata": {},
   "outputs": [
    {
     "data": {
      "text/plain": [
       "0      0.991661\n",
       "1      0.376320\n",
       "2      0.564708\n",
       "3      0.161843\n",
       "4      0.740716\n",
       "         ...   \n",
       "329    0.805624\n",
       "330    0.294110\n",
       "331    0.367636\n",
       "332    0.694738\n",
       "333    0.004299\n",
       "Name: 4, Length: 334, dtype: float64"
      ]
     },
     "execution_count": 167,
     "metadata": {},
     "output_type": "execute_result"
    }
   ],
   "source": [
    "newdf[4]"
   ]
  },
  {
   "cell_type": "code",
   "execution_count": 168,
   "metadata": {},
   "outputs": [
    {
     "data": {
      "text/plain": [
       "pandas.core.series.Series"
      ]
     },
     "execution_count": 168,
     "metadata": {},
     "output_type": "execute_result"
    }
   ],
   "source": [
    "type(newdf[4])"
   ]
  },
  {
   "cell_type": "markdown",
   "metadata": {},
   "source": [
    "**View and copy in pandas dataframes**"
   ]
  },
  {
   "cell_type": "code",
   "execution_count": 169,
   "metadata": {},
   "outputs": [],
   "source": [
    "newdf2=newdf #it is not copy it is a view of newdf"
   ]
  },
  {
   "cell_type": "code",
   "execution_count": 170,
   "metadata": {},
   "outputs": [
    {
     "data": {
      "text/html": [
       "<div>\n",
       "<style scoped>\n",
       "    .dataframe tbody tr th:only-of-type {\n",
       "        vertical-align: middle;\n",
       "    }\n",
       "\n",
       "    .dataframe tbody tr th {\n",
       "        vertical-align: top;\n",
       "    }\n",
       "\n",
       "    .dataframe thead th {\n",
       "        text-align: right;\n",
       "    }\n",
       "</style>\n",
       "<table border=\"1\" class=\"dataframe\">\n",
       "  <thead>\n",
       "    <tr style=\"text-align: right;\">\n",
       "      <th></th>\n",
       "      <th>0</th>\n",
       "      <th>1</th>\n",
       "      <th>2</th>\n",
       "      <th>3</th>\n",
       "      <th>4</th>\n",
       "    </tr>\n",
       "  </thead>\n",
       "  <tbody>\n",
       "    <tr>\n",
       "      <th>0</th>\n",
       "      <td>0.42343</td>\n",
       "      <td>0.992037</td>\n",
       "      <td>0.970444</td>\n",
       "      <td>0.388839</td>\n",
       "      <td>0.991661</td>\n",
       "    </tr>\n",
       "    <tr>\n",
       "      <th>1</th>\n",
       "      <td>0.537061</td>\n",
       "      <td>0.369353</td>\n",
       "      <td>0.815880</td>\n",
       "      <td>0.611399</td>\n",
       "      <td>0.376320</td>\n",
       "    </tr>\n",
       "    <tr>\n",
       "      <th>2</th>\n",
       "      <td>0.812868</td>\n",
       "      <td>0.452920</td>\n",
       "      <td>0.388345</td>\n",
       "      <td>0.074300</td>\n",
       "      <td>0.564708</td>\n",
       "    </tr>\n",
       "    <tr>\n",
       "      <th>3</th>\n",
       "      <td>0.441285</td>\n",
       "      <td>0.862606</td>\n",
       "      <td>0.668626</td>\n",
       "      <td>0.678420</td>\n",
       "      <td>0.161843</td>\n",
       "    </tr>\n",
       "    <tr>\n",
       "      <th>4</th>\n",
       "      <td>0.080405</td>\n",
       "      <td>0.689312</td>\n",
       "      <td>0.194074</td>\n",
       "      <td>0.604543</td>\n",
       "      <td>0.740716</td>\n",
       "    </tr>\n",
       "    <tr>\n",
       "      <th>...</th>\n",
       "      <td>...</td>\n",
       "      <td>...</td>\n",
       "      <td>...</td>\n",
       "      <td>...</td>\n",
       "      <td>...</td>\n",
       "    </tr>\n",
       "    <tr>\n",
       "      <th>329</th>\n",
       "      <td>0.337686</td>\n",
       "      <td>0.930909</td>\n",
       "      <td>0.736689</td>\n",
       "      <td>0.680936</td>\n",
       "      <td>0.805624</td>\n",
       "    </tr>\n",
       "    <tr>\n",
       "      <th>330</th>\n",
       "      <td>0.07642</td>\n",
       "      <td>0.281268</td>\n",
       "      <td>0.724187</td>\n",
       "      <td>0.070705</td>\n",
       "      <td>0.294110</td>\n",
       "    </tr>\n",
       "    <tr>\n",
       "      <th>331</th>\n",
       "      <td>0.765668</td>\n",
       "      <td>0.673129</td>\n",
       "      <td>0.966068</td>\n",
       "      <td>0.885469</td>\n",
       "      <td>0.367636</td>\n",
       "    </tr>\n",
       "    <tr>\n",
       "      <th>332</th>\n",
       "      <td>0.474802</td>\n",
       "      <td>0.566986</td>\n",
       "      <td>0.046846</td>\n",
       "      <td>0.682673</td>\n",
       "      <td>0.694738</td>\n",
       "    </tr>\n",
       "    <tr>\n",
       "      <th>333</th>\n",
       "      <td>0.196133</td>\n",
       "      <td>0.507601</td>\n",
       "      <td>0.626752</td>\n",
       "      <td>0.081347</td>\n",
       "      <td>0.004299</td>\n",
       "    </tr>\n",
       "  </tbody>\n",
       "</table>\n",
       "<p>334 rows × 5 columns</p>\n",
       "</div>"
      ],
      "text/plain": [
       "            0         1         2         3         4\n",
       "0     0.42343  0.992037  0.970444  0.388839  0.991661\n",
       "1    0.537061  0.369353  0.815880  0.611399  0.376320\n",
       "2    0.812868  0.452920  0.388345  0.074300  0.564708\n",
       "3    0.441285  0.862606  0.668626  0.678420  0.161843\n",
       "4    0.080405  0.689312  0.194074  0.604543  0.740716\n",
       "..        ...       ...       ...       ...       ...\n",
       "329  0.337686  0.930909  0.736689  0.680936  0.805624\n",
       "330   0.07642  0.281268  0.724187  0.070705  0.294110\n",
       "331  0.765668  0.673129  0.966068  0.885469  0.367636\n",
       "332  0.474802  0.566986  0.046846  0.682673  0.694738\n",
       "333  0.196133  0.507601  0.626752  0.081347  0.004299\n",
       "\n",
       "[334 rows x 5 columns]"
      ]
     },
     "execution_count": 170,
     "metadata": {},
     "output_type": "execute_result"
    }
   ],
   "source": [
    "newdf2"
   ]
  },
  {
   "cell_type": "code",
   "execution_count": 171,
   "metadata": {},
   "outputs": [],
   "source": [
    "newdf2[0][0]=1111 #it will change in orignal newdf bcz it is view not a copy"
   ]
  },
  {
   "cell_type": "code",
   "execution_count": 172,
   "metadata": {},
   "outputs": [
    {
     "data": {
      "text/html": [
       "<div>\n",
       "<style scoped>\n",
       "    .dataframe tbody tr th:only-of-type {\n",
       "        vertical-align: middle;\n",
       "    }\n",
       "\n",
       "    .dataframe tbody tr th {\n",
       "        vertical-align: top;\n",
       "    }\n",
       "\n",
       "    .dataframe thead th {\n",
       "        text-align: right;\n",
       "    }\n",
       "</style>\n",
       "<table border=\"1\" class=\"dataframe\">\n",
       "  <thead>\n",
       "    <tr style=\"text-align: right;\">\n",
       "      <th></th>\n",
       "      <th>0</th>\n",
       "      <th>1</th>\n",
       "      <th>2</th>\n",
       "      <th>3</th>\n",
       "      <th>4</th>\n",
       "    </tr>\n",
       "  </thead>\n",
       "  <tbody>\n",
       "    <tr>\n",
       "      <th>0</th>\n",
       "      <td>1111</td>\n",
       "      <td>0.992037</td>\n",
       "      <td>0.970444</td>\n",
       "      <td>0.388839</td>\n",
       "      <td>0.991661</td>\n",
       "    </tr>\n",
       "    <tr>\n",
       "      <th>1</th>\n",
       "      <td>0.537061</td>\n",
       "      <td>0.369353</td>\n",
       "      <td>0.815880</td>\n",
       "      <td>0.611399</td>\n",
       "      <td>0.376320</td>\n",
       "    </tr>\n",
       "    <tr>\n",
       "      <th>2</th>\n",
       "      <td>0.812868</td>\n",
       "      <td>0.452920</td>\n",
       "      <td>0.388345</td>\n",
       "      <td>0.074300</td>\n",
       "      <td>0.564708</td>\n",
       "    </tr>\n",
       "    <tr>\n",
       "      <th>3</th>\n",
       "      <td>0.441285</td>\n",
       "      <td>0.862606</td>\n",
       "      <td>0.668626</td>\n",
       "      <td>0.678420</td>\n",
       "      <td>0.161843</td>\n",
       "    </tr>\n",
       "    <tr>\n",
       "      <th>4</th>\n",
       "      <td>0.080405</td>\n",
       "      <td>0.689312</td>\n",
       "      <td>0.194074</td>\n",
       "      <td>0.604543</td>\n",
       "      <td>0.740716</td>\n",
       "    </tr>\n",
       "    <tr>\n",
       "      <th>...</th>\n",
       "      <td>...</td>\n",
       "      <td>...</td>\n",
       "      <td>...</td>\n",
       "      <td>...</td>\n",
       "      <td>...</td>\n",
       "    </tr>\n",
       "    <tr>\n",
       "      <th>329</th>\n",
       "      <td>0.337686</td>\n",
       "      <td>0.930909</td>\n",
       "      <td>0.736689</td>\n",
       "      <td>0.680936</td>\n",
       "      <td>0.805624</td>\n",
       "    </tr>\n",
       "    <tr>\n",
       "      <th>330</th>\n",
       "      <td>0.07642</td>\n",
       "      <td>0.281268</td>\n",
       "      <td>0.724187</td>\n",
       "      <td>0.070705</td>\n",
       "      <td>0.294110</td>\n",
       "    </tr>\n",
       "    <tr>\n",
       "      <th>331</th>\n",
       "      <td>0.765668</td>\n",
       "      <td>0.673129</td>\n",
       "      <td>0.966068</td>\n",
       "      <td>0.885469</td>\n",
       "      <td>0.367636</td>\n",
       "    </tr>\n",
       "    <tr>\n",
       "      <th>332</th>\n",
       "      <td>0.474802</td>\n",
       "      <td>0.566986</td>\n",
       "      <td>0.046846</td>\n",
       "      <td>0.682673</td>\n",
       "      <td>0.694738</td>\n",
       "    </tr>\n",
       "    <tr>\n",
       "      <th>333</th>\n",
       "      <td>0.196133</td>\n",
       "      <td>0.507601</td>\n",
       "      <td>0.626752</td>\n",
       "      <td>0.081347</td>\n",
       "      <td>0.004299</td>\n",
       "    </tr>\n",
       "  </tbody>\n",
       "</table>\n",
       "<p>334 rows × 5 columns</p>\n",
       "</div>"
      ],
      "text/plain": [
       "            0         1         2         3         4\n",
       "0        1111  0.992037  0.970444  0.388839  0.991661\n",
       "1    0.537061  0.369353  0.815880  0.611399  0.376320\n",
       "2    0.812868  0.452920  0.388345  0.074300  0.564708\n",
       "3    0.441285  0.862606  0.668626  0.678420  0.161843\n",
       "4    0.080405  0.689312  0.194074  0.604543  0.740716\n",
       "..        ...       ...       ...       ...       ...\n",
       "329  0.337686  0.930909  0.736689  0.680936  0.805624\n",
       "330   0.07642  0.281268  0.724187  0.070705  0.294110\n",
       "331  0.765668  0.673129  0.966068  0.885469  0.367636\n",
       "332  0.474802  0.566986  0.046846  0.682673  0.694738\n",
       "333  0.196133  0.507601  0.626752  0.081347  0.004299\n",
       "\n",
       "[334 rows x 5 columns]"
      ]
     },
     "execution_count": 172,
     "metadata": {},
     "output_type": "execute_result"
    }
   ],
   "source": [
    "newdf #so it changed through view"
   ]
  },
  {
   "cell_type": "code",
   "execution_count": 173,
   "metadata": {},
   "outputs": [],
   "source": [
    "newdf=newdf2.copy() #now it will work as copy "
   ]
  },
  {
   "cell_type": "code",
   "execution_count": 174,
   "metadata": {},
   "outputs": [
    {
     "name": "stderr",
     "output_type": "stream",
     "text": [
      "C:\\Users\\This PC\\AppData\\Local\\Temp\\ipykernel_6476\\4208072237.py:1: SettingWithCopyWarning: \n",
      "A value is trying to be set on a copy of a slice from a DataFrame\n",
      "\n",
      "See the caveats in the documentation: https://pandas.pydata.org/pandas-docs/stable/user_guide/indexing.html#returning-a-view-versus-a-copy\n",
      "  newdf2[0][0]=222\n"
     ]
    }
   ],
   "source": [
    "newdf2[0][0]=222"
   ]
  },
  {
   "cell_type": "code",
   "execution_count": 175,
   "metadata": {},
   "outputs": [
    {
     "data": {
      "text/html": [
       "<div>\n",
       "<style scoped>\n",
       "    .dataframe tbody tr th:only-of-type {\n",
       "        vertical-align: middle;\n",
       "    }\n",
       "\n",
       "    .dataframe tbody tr th {\n",
       "        vertical-align: top;\n",
       "    }\n",
       "\n",
       "    .dataframe thead th {\n",
       "        text-align: right;\n",
       "    }\n",
       "</style>\n",
       "<table border=\"1\" class=\"dataframe\">\n",
       "  <thead>\n",
       "    <tr style=\"text-align: right;\">\n",
       "      <th></th>\n",
       "      <th>0</th>\n",
       "      <th>1</th>\n",
       "      <th>2</th>\n",
       "      <th>3</th>\n",
       "      <th>4</th>\n",
       "    </tr>\n",
       "  </thead>\n",
       "  <tbody>\n",
       "    <tr>\n",
       "      <th>0</th>\n",
       "      <td>222</td>\n",
       "      <td>0.992037</td>\n",
       "      <td>0.970444</td>\n",
       "      <td>0.388839</td>\n",
       "      <td>0.991661</td>\n",
       "    </tr>\n",
       "    <tr>\n",
       "      <th>1</th>\n",
       "      <td>0.537061</td>\n",
       "      <td>0.369353</td>\n",
       "      <td>0.815880</td>\n",
       "      <td>0.611399</td>\n",
       "      <td>0.376320</td>\n",
       "    </tr>\n",
       "    <tr>\n",
       "      <th>2</th>\n",
       "      <td>0.812868</td>\n",
       "      <td>0.452920</td>\n",
       "      <td>0.388345</td>\n",
       "      <td>0.074300</td>\n",
       "      <td>0.564708</td>\n",
       "    </tr>\n",
       "    <tr>\n",
       "      <th>3</th>\n",
       "      <td>0.441285</td>\n",
       "      <td>0.862606</td>\n",
       "      <td>0.668626</td>\n",
       "      <td>0.678420</td>\n",
       "      <td>0.161843</td>\n",
       "    </tr>\n",
       "    <tr>\n",
       "      <th>4</th>\n",
       "      <td>0.080405</td>\n",
       "      <td>0.689312</td>\n",
       "      <td>0.194074</td>\n",
       "      <td>0.604543</td>\n",
       "      <td>0.740716</td>\n",
       "    </tr>\n",
       "  </tbody>\n",
       "</table>\n",
       "</div>"
      ],
      "text/plain": [
       "          0         1         2         3         4\n",
       "0       222  0.992037  0.970444  0.388839  0.991661\n",
       "1  0.537061  0.369353  0.815880  0.611399  0.376320\n",
       "2  0.812868  0.452920  0.388345  0.074300  0.564708\n",
       "3  0.441285  0.862606  0.668626  0.678420  0.161843\n",
       "4  0.080405  0.689312  0.194074  0.604543  0.740716"
      ]
     },
     "execution_count": 175,
     "metadata": {},
     "output_type": "execute_result"
    }
   ],
   "source": [
    "newdf2.head()"
   ]
  },
  {
   "cell_type": "code",
   "execution_count": 176,
   "metadata": {},
   "outputs": [
    {
     "data": {
      "text/html": [
       "<div>\n",
       "<style scoped>\n",
       "    .dataframe tbody tr th:only-of-type {\n",
       "        vertical-align: middle;\n",
       "    }\n",
       "\n",
       "    .dataframe tbody tr th {\n",
       "        vertical-align: top;\n",
       "    }\n",
       "\n",
       "    .dataframe thead th {\n",
       "        text-align: right;\n",
       "    }\n",
       "</style>\n",
       "<table border=\"1\" class=\"dataframe\">\n",
       "  <thead>\n",
       "    <tr style=\"text-align: right;\">\n",
       "      <th></th>\n",
       "      <th>0</th>\n",
       "      <th>1</th>\n",
       "      <th>2</th>\n",
       "      <th>3</th>\n",
       "      <th>4</th>\n",
       "    </tr>\n",
       "  </thead>\n",
       "  <tbody>\n",
       "    <tr>\n",
       "      <th>0</th>\n",
       "      <td>1111</td>\n",
       "      <td>0.992037</td>\n",
       "      <td>0.970444</td>\n",
       "      <td>0.388839</td>\n",
       "      <td>0.991661</td>\n",
       "    </tr>\n",
       "    <tr>\n",
       "      <th>1</th>\n",
       "      <td>0.537061</td>\n",
       "      <td>0.369353</td>\n",
       "      <td>0.815880</td>\n",
       "      <td>0.611399</td>\n",
       "      <td>0.376320</td>\n",
       "    </tr>\n",
       "    <tr>\n",
       "      <th>2</th>\n",
       "      <td>0.812868</td>\n",
       "      <td>0.452920</td>\n",
       "      <td>0.388345</td>\n",
       "      <td>0.074300</td>\n",
       "      <td>0.564708</td>\n",
       "    </tr>\n",
       "    <tr>\n",
       "      <th>3</th>\n",
       "      <td>0.441285</td>\n",
       "      <td>0.862606</td>\n",
       "      <td>0.668626</td>\n",
       "      <td>0.678420</td>\n",
       "      <td>0.161843</td>\n",
       "    </tr>\n",
       "    <tr>\n",
       "      <th>4</th>\n",
       "      <td>0.080405</td>\n",
       "      <td>0.689312</td>\n",
       "      <td>0.194074</td>\n",
       "      <td>0.604543</td>\n",
       "      <td>0.740716</td>\n",
       "    </tr>\n",
       "  </tbody>\n",
       "</table>\n",
       "</div>"
      ],
      "text/plain": [
       "          0         1         2         3         4\n",
       "0      1111  0.992037  0.970444  0.388839  0.991661\n",
       "1  0.537061  0.369353  0.815880  0.611399  0.376320\n",
       "2  0.812868  0.452920  0.388345  0.074300  0.564708\n",
       "3  0.441285  0.862606  0.668626  0.678420  0.161843\n",
       "4  0.080405  0.689312  0.194074  0.604543  0.740716"
      ]
     },
     "execution_count": 176,
     "metadata": {},
     "output_type": "execute_result"
    }
   ],
   "source": [
    "newdf.head() #now after change in copy we can see orignal is not change"
   ]
  },
  {
   "cell_type": "markdown",
   "metadata": {},
   "source": [
    "**So due to these reasons we use loc() to change our values**"
   ]
  },
  {
   "cell_type": "code",
   "execution_count": 177,
   "metadata": {},
   "outputs": [],
   "source": [
    "newdf.loc[0,0]=2343"
   ]
  },
  {
   "cell_type": "code",
   "execution_count": 178,
   "metadata": {},
   "outputs": [
    {
     "data": {
      "text/html": [
       "<div>\n",
       "<style scoped>\n",
       "    .dataframe tbody tr th:only-of-type {\n",
       "        vertical-align: middle;\n",
       "    }\n",
       "\n",
       "    .dataframe tbody tr th {\n",
       "        vertical-align: top;\n",
       "    }\n",
       "\n",
       "    .dataframe thead th {\n",
       "        text-align: right;\n",
       "    }\n",
       "</style>\n",
       "<table border=\"1\" class=\"dataframe\">\n",
       "  <thead>\n",
       "    <tr style=\"text-align: right;\">\n",
       "      <th></th>\n",
       "      <th>0</th>\n",
       "      <th>1</th>\n",
       "      <th>2</th>\n",
       "      <th>3</th>\n",
       "      <th>4</th>\n",
       "    </tr>\n",
       "  </thead>\n",
       "  <tbody>\n",
       "    <tr>\n",
       "      <th>0</th>\n",
       "      <td>2343</td>\n",
       "      <td>0.992037</td>\n",
       "      <td>0.970444</td>\n",
       "      <td>0.388839</td>\n",
       "      <td>0.991661</td>\n",
       "    </tr>\n",
       "    <tr>\n",
       "      <th>1</th>\n",
       "      <td>0.537061</td>\n",
       "      <td>0.369353</td>\n",
       "      <td>0.815880</td>\n",
       "      <td>0.611399</td>\n",
       "      <td>0.376320</td>\n",
       "    </tr>\n",
       "    <tr>\n",
       "      <th>2</th>\n",
       "      <td>0.812868</td>\n",
       "      <td>0.452920</td>\n",
       "      <td>0.388345</td>\n",
       "      <td>0.074300</td>\n",
       "      <td>0.564708</td>\n",
       "    </tr>\n",
       "    <tr>\n",
       "      <th>3</th>\n",
       "      <td>0.441285</td>\n",
       "      <td>0.862606</td>\n",
       "      <td>0.668626</td>\n",
       "      <td>0.678420</td>\n",
       "      <td>0.161843</td>\n",
       "    </tr>\n",
       "    <tr>\n",
       "      <th>4</th>\n",
       "      <td>0.080405</td>\n",
       "      <td>0.689312</td>\n",
       "      <td>0.194074</td>\n",
       "      <td>0.604543</td>\n",
       "      <td>0.740716</td>\n",
       "    </tr>\n",
       "  </tbody>\n",
       "</table>\n",
       "</div>"
      ],
      "text/plain": [
       "          0         1         2         3         4\n",
       "0      2343  0.992037  0.970444  0.388839  0.991661\n",
       "1  0.537061  0.369353  0.815880  0.611399  0.376320\n",
       "2  0.812868  0.452920  0.388345  0.074300  0.564708\n",
       "3  0.441285  0.862606  0.668626  0.678420  0.161843\n",
       "4  0.080405  0.689312  0.194074  0.604543  0.740716"
      ]
     },
     "execution_count": 178,
     "metadata": {},
     "output_type": "execute_result"
    }
   ],
   "source": [
    "newdf.head()"
   ]
  },
  {
   "cell_type": "code",
   "execution_count": 179,
   "metadata": {},
   "outputs": [],
   "source": [
    "newdf.columns=list('ABCDE')"
   ]
  },
  {
   "cell_type": "code",
   "execution_count": 180,
   "metadata": {},
   "outputs": [
    {
     "data": {
      "text/html": [
       "<div>\n",
       "<style scoped>\n",
       "    .dataframe tbody tr th:only-of-type {\n",
       "        vertical-align: middle;\n",
       "    }\n",
       "\n",
       "    .dataframe tbody tr th {\n",
       "        vertical-align: top;\n",
       "    }\n",
       "\n",
       "    .dataframe thead th {\n",
       "        text-align: right;\n",
       "    }\n",
       "</style>\n",
       "<table border=\"1\" class=\"dataframe\">\n",
       "  <thead>\n",
       "    <tr style=\"text-align: right;\">\n",
       "      <th></th>\n",
       "      <th>A</th>\n",
       "      <th>B</th>\n",
       "      <th>C</th>\n",
       "      <th>D</th>\n",
       "      <th>E</th>\n",
       "    </tr>\n",
       "  </thead>\n",
       "  <tbody>\n",
       "    <tr>\n",
       "      <th>0</th>\n",
       "      <td>2343</td>\n",
       "      <td>0.992037</td>\n",
       "      <td>0.970444</td>\n",
       "      <td>0.388839</td>\n",
       "      <td>0.991661</td>\n",
       "    </tr>\n",
       "    <tr>\n",
       "      <th>1</th>\n",
       "      <td>0.537061</td>\n",
       "      <td>0.369353</td>\n",
       "      <td>0.815880</td>\n",
       "      <td>0.611399</td>\n",
       "      <td>0.376320</td>\n",
       "    </tr>\n",
       "  </tbody>\n",
       "</table>\n",
       "</div>"
      ],
      "text/plain": [
       "          A         B         C         D         E\n",
       "0      2343  0.992037  0.970444  0.388839  0.991661\n",
       "1  0.537061  0.369353  0.815880  0.611399  0.376320"
      ]
     },
     "execution_count": 180,
     "metadata": {},
     "output_type": "execute_result"
    }
   ],
   "source": [
    "newdf.head(2)"
   ]
  },
  {
   "cell_type": "code",
   "execution_count": 181,
   "metadata": {},
   "outputs": [],
   "source": [
    "newdf.loc[0,'A']=12345"
   ]
  },
  {
   "cell_type": "code",
   "execution_count": 182,
   "metadata": {},
   "outputs": [
    {
     "data": {
      "text/html": [
       "<div>\n",
       "<style scoped>\n",
       "    .dataframe tbody tr th:only-of-type {\n",
       "        vertical-align: middle;\n",
       "    }\n",
       "\n",
       "    .dataframe tbody tr th {\n",
       "        vertical-align: top;\n",
       "    }\n",
       "\n",
       "    .dataframe thead th {\n",
       "        text-align: right;\n",
       "    }\n",
       "</style>\n",
       "<table border=\"1\" class=\"dataframe\">\n",
       "  <thead>\n",
       "    <tr style=\"text-align: right;\">\n",
       "      <th></th>\n",
       "      <th>A</th>\n",
       "      <th>B</th>\n",
       "      <th>C</th>\n",
       "      <th>D</th>\n",
       "      <th>E</th>\n",
       "    </tr>\n",
       "  </thead>\n",
       "  <tbody>\n",
       "    <tr>\n",
       "      <th>0</th>\n",
       "      <td>12345</td>\n",
       "      <td>0.992037</td>\n",
       "      <td>0.970444</td>\n",
       "      <td>0.388839</td>\n",
       "      <td>0.991661</td>\n",
       "    </tr>\n",
       "    <tr>\n",
       "      <th>1</th>\n",
       "      <td>0.537061</td>\n",
       "      <td>0.369353</td>\n",
       "      <td>0.815880</td>\n",
       "      <td>0.611399</td>\n",
       "      <td>0.376320</td>\n",
       "    </tr>\n",
       "  </tbody>\n",
       "</table>\n",
       "</div>"
      ],
      "text/plain": [
       "          A         B         C         D         E\n",
       "0     12345  0.992037  0.970444  0.388839  0.991661\n",
       "1  0.537061  0.369353  0.815880  0.611399  0.376320"
      ]
     },
     "execution_count": 182,
     "metadata": {},
     "output_type": "execute_result"
    }
   ],
   "source": [
    "newdf.head(2)"
   ]
  },
  {
   "cell_type": "code",
   "execution_count": 183,
   "metadata": {},
   "outputs": [],
   "source": [
    "newdf.loc[0,0]=6666 #it makes an extra col named 0 bcz there is no column 0 to update so it make new"
   ]
  },
  {
   "cell_type": "code",
   "execution_count": 184,
   "metadata": {},
   "outputs": [
    {
     "data": {
      "text/html": [
       "<div>\n",
       "<style scoped>\n",
       "    .dataframe tbody tr th:only-of-type {\n",
       "        vertical-align: middle;\n",
       "    }\n",
       "\n",
       "    .dataframe tbody tr th {\n",
       "        vertical-align: top;\n",
       "    }\n",
       "\n",
       "    .dataframe thead th {\n",
       "        text-align: right;\n",
       "    }\n",
       "</style>\n",
       "<table border=\"1\" class=\"dataframe\">\n",
       "  <thead>\n",
       "    <tr style=\"text-align: right;\">\n",
       "      <th></th>\n",
       "      <th>A</th>\n",
       "      <th>B</th>\n",
       "      <th>C</th>\n",
       "      <th>D</th>\n",
       "      <th>E</th>\n",
       "      <th>0</th>\n",
       "    </tr>\n",
       "  </thead>\n",
       "  <tbody>\n",
       "    <tr>\n",
       "      <th>0</th>\n",
       "      <td>12345</td>\n",
       "      <td>0.992037</td>\n",
       "      <td>0.970444</td>\n",
       "      <td>0.388839</td>\n",
       "      <td>0.991661</td>\n",
       "      <td>6666.0</td>\n",
       "    </tr>\n",
       "    <tr>\n",
       "      <th>1</th>\n",
       "      <td>0.537061</td>\n",
       "      <td>0.369353</td>\n",
       "      <td>0.815880</td>\n",
       "      <td>0.611399</td>\n",
       "      <td>0.376320</td>\n",
       "      <td>NaN</td>\n",
       "    </tr>\n",
       "    <tr>\n",
       "      <th>2</th>\n",
       "      <td>0.812868</td>\n",
       "      <td>0.452920</td>\n",
       "      <td>0.388345</td>\n",
       "      <td>0.074300</td>\n",
       "      <td>0.564708</td>\n",
       "      <td>NaN</td>\n",
       "    </tr>\n",
       "    <tr>\n",
       "      <th>3</th>\n",
       "      <td>0.441285</td>\n",
       "      <td>0.862606</td>\n",
       "      <td>0.668626</td>\n",
       "      <td>0.678420</td>\n",
       "      <td>0.161843</td>\n",
       "      <td>NaN</td>\n",
       "    </tr>\n",
       "    <tr>\n",
       "      <th>4</th>\n",
       "      <td>0.080405</td>\n",
       "      <td>0.689312</td>\n",
       "      <td>0.194074</td>\n",
       "      <td>0.604543</td>\n",
       "      <td>0.740716</td>\n",
       "      <td>NaN</td>\n",
       "    </tr>\n",
       "  </tbody>\n",
       "</table>\n",
       "</div>"
      ],
      "text/plain": [
       "          A         B         C         D         E       0\n",
       "0     12345  0.992037  0.970444  0.388839  0.991661  6666.0\n",
       "1  0.537061  0.369353  0.815880  0.611399  0.376320     NaN\n",
       "2  0.812868  0.452920  0.388345  0.074300  0.564708     NaN\n",
       "3  0.441285  0.862606  0.668626  0.678420  0.161843     NaN\n",
       "4  0.080405  0.689312  0.194074  0.604543  0.740716     NaN"
      ]
     },
     "execution_count": 184,
     "metadata": {},
     "output_type": "execute_result"
    }
   ],
   "source": [
    "newdf.head() "
   ]
  },
  {
   "cell_type": "code",
   "execution_count": 185,
   "metadata": {},
   "outputs": [],
   "source": [
    "newdf=newdf.drop(0,axis=1)"
   ]
  },
  {
   "cell_type": "code",
   "execution_count": 186,
   "metadata": {},
   "outputs": [
    {
     "data": {
      "text/html": [
       "<div>\n",
       "<style scoped>\n",
       "    .dataframe tbody tr th:only-of-type {\n",
       "        vertical-align: middle;\n",
       "    }\n",
       "\n",
       "    .dataframe tbody tr th {\n",
       "        vertical-align: top;\n",
       "    }\n",
       "\n",
       "    .dataframe thead th {\n",
       "        text-align: right;\n",
       "    }\n",
       "</style>\n",
       "<table border=\"1\" class=\"dataframe\">\n",
       "  <thead>\n",
       "    <tr style=\"text-align: right;\">\n",
       "      <th></th>\n",
       "      <th>A</th>\n",
       "      <th>B</th>\n",
       "      <th>C</th>\n",
       "      <th>D</th>\n",
       "      <th>E</th>\n",
       "    </tr>\n",
       "  </thead>\n",
       "  <tbody>\n",
       "    <tr>\n",
       "      <th>0</th>\n",
       "      <td>12345</td>\n",
       "      <td>0.992037</td>\n",
       "      <td>0.970444</td>\n",
       "      <td>0.388839</td>\n",
       "      <td>0.991661</td>\n",
       "    </tr>\n",
       "    <tr>\n",
       "      <th>1</th>\n",
       "      <td>0.537061</td>\n",
       "      <td>0.369353</td>\n",
       "      <td>0.815880</td>\n",
       "      <td>0.611399</td>\n",
       "      <td>0.376320</td>\n",
       "    </tr>\n",
       "    <tr>\n",
       "      <th>2</th>\n",
       "      <td>0.812868</td>\n",
       "      <td>0.452920</td>\n",
       "      <td>0.388345</td>\n",
       "      <td>0.074300</td>\n",
       "      <td>0.564708</td>\n",
       "    </tr>\n",
       "    <tr>\n",
       "      <th>3</th>\n",
       "      <td>0.441285</td>\n",
       "      <td>0.862606</td>\n",
       "      <td>0.668626</td>\n",
       "      <td>0.678420</td>\n",
       "      <td>0.161843</td>\n",
       "    </tr>\n",
       "    <tr>\n",
       "      <th>4</th>\n",
       "      <td>0.080405</td>\n",
       "      <td>0.689312</td>\n",
       "      <td>0.194074</td>\n",
       "      <td>0.604543</td>\n",
       "      <td>0.740716</td>\n",
       "    </tr>\n",
       "    <tr>\n",
       "      <th>...</th>\n",
       "      <td>...</td>\n",
       "      <td>...</td>\n",
       "      <td>...</td>\n",
       "      <td>...</td>\n",
       "      <td>...</td>\n",
       "    </tr>\n",
       "    <tr>\n",
       "      <th>329</th>\n",
       "      <td>0.337686</td>\n",
       "      <td>0.930909</td>\n",
       "      <td>0.736689</td>\n",
       "      <td>0.680936</td>\n",
       "      <td>0.805624</td>\n",
       "    </tr>\n",
       "    <tr>\n",
       "      <th>330</th>\n",
       "      <td>0.07642</td>\n",
       "      <td>0.281268</td>\n",
       "      <td>0.724187</td>\n",
       "      <td>0.070705</td>\n",
       "      <td>0.294110</td>\n",
       "    </tr>\n",
       "    <tr>\n",
       "      <th>331</th>\n",
       "      <td>0.765668</td>\n",
       "      <td>0.673129</td>\n",
       "      <td>0.966068</td>\n",
       "      <td>0.885469</td>\n",
       "      <td>0.367636</td>\n",
       "    </tr>\n",
       "    <tr>\n",
       "      <th>332</th>\n",
       "      <td>0.474802</td>\n",
       "      <td>0.566986</td>\n",
       "      <td>0.046846</td>\n",
       "      <td>0.682673</td>\n",
       "      <td>0.694738</td>\n",
       "    </tr>\n",
       "    <tr>\n",
       "      <th>333</th>\n",
       "      <td>0.196133</td>\n",
       "      <td>0.507601</td>\n",
       "      <td>0.626752</td>\n",
       "      <td>0.081347</td>\n",
       "      <td>0.004299</td>\n",
       "    </tr>\n",
       "  </tbody>\n",
       "</table>\n",
       "<p>334 rows × 5 columns</p>\n",
       "</div>"
      ],
      "text/plain": [
       "            A         B         C         D         E\n",
       "0       12345  0.992037  0.970444  0.388839  0.991661\n",
       "1    0.537061  0.369353  0.815880  0.611399  0.376320\n",
       "2    0.812868  0.452920  0.388345  0.074300  0.564708\n",
       "3    0.441285  0.862606  0.668626  0.678420  0.161843\n",
       "4    0.080405  0.689312  0.194074  0.604543  0.740716\n",
       "..        ...       ...       ...       ...       ...\n",
       "329  0.337686  0.930909  0.736689  0.680936  0.805624\n",
       "330   0.07642  0.281268  0.724187  0.070705  0.294110\n",
       "331  0.765668  0.673129  0.966068  0.885469  0.367636\n",
       "332  0.474802  0.566986  0.046846  0.682673  0.694738\n",
       "333  0.196133  0.507601  0.626752  0.081347  0.004299\n",
       "\n",
       "[334 rows x 5 columns]"
      ]
     },
     "execution_count": 186,
     "metadata": {},
     "output_type": "execute_result"
    }
   ],
   "source": [
    "newdf"
   ]
  },
  {
   "cell_type": "markdown",
   "metadata": {},
   "source": [
    "**If need specific row and columns**"
   ]
  },
  {
   "cell_type": "code",
   "execution_count": 187,
   "metadata": {},
   "outputs": [
    {
     "data": {
      "text/html": [
       "<div>\n",
       "<style scoped>\n",
       "    .dataframe tbody tr th:only-of-type {\n",
       "        vertical-align: middle;\n",
       "    }\n",
       "\n",
       "    .dataframe tbody tr th {\n",
       "        vertical-align: top;\n",
       "    }\n",
       "\n",
       "    .dataframe thead th {\n",
       "        text-align: right;\n",
       "    }\n",
       "</style>\n",
       "<table border=\"1\" class=\"dataframe\">\n",
       "  <thead>\n",
       "    <tr style=\"text-align: right;\">\n",
       "      <th></th>\n",
       "      <th>C</th>\n",
       "      <th>D</th>\n",
       "    </tr>\n",
       "  </thead>\n",
       "  <tbody>\n",
       "    <tr>\n",
       "      <th>1</th>\n",
       "      <td>0.815880</td>\n",
       "      <td>0.611399</td>\n",
       "    </tr>\n",
       "    <tr>\n",
       "      <th>2</th>\n",
       "      <td>0.388345</td>\n",
       "      <td>0.074300</td>\n",
       "    </tr>\n",
       "  </tbody>\n",
       "</table>\n",
       "</div>"
      ],
      "text/plain": [
       "          C         D\n",
       "1  0.815880  0.611399\n",
       "2  0.388345  0.074300"
      ]
     },
     "execution_count": 187,
     "metadata": {},
     "output_type": "execute_result"
    }
   ],
   "source": [
    "newdf.loc[[1,2],['C','D']]"
   ]
  },
  {
   "cell_type": "code",
   "execution_count": 188,
   "metadata": {},
   "outputs": [],
   "source": [
    "newdf.loc[[1,2],['C','D']]=1 #also you can change values at these positions"
   ]
  },
  {
   "cell_type": "code",
   "execution_count": 189,
   "metadata": {},
   "outputs": [
    {
     "data": {
      "text/html": [
       "<div>\n",
       "<style scoped>\n",
       "    .dataframe tbody tr th:only-of-type {\n",
       "        vertical-align: middle;\n",
       "    }\n",
       "\n",
       "    .dataframe tbody tr th {\n",
       "        vertical-align: top;\n",
       "    }\n",
       "\n",
       "    .dataframe thead th {\n",
       "        text-align: right;\n",
       "    }\n",
       "</style>\n",
       "<table border=\"1\" class=\"dataframe\">\n",
       "  <thead>\n",
       "    <tr style=\"text-align: right;\">\n",
       "      <th></th>\n",
       "      <th>A</th>\n",
       "      <th>B</th>\n",
       "      <th>C</th>\n",
       "      <th>D</th>\n",
       "      <th>E</th>\n",
       "    </tr>\n",
       "  </thead>\n",
       "  <tbody>\n",
       "    <tr>\n",
       "      <th>0</th>\n",
       "      <td>12345</td>\n",
       "      <td>0.992037</td>\n",
       "      <td>0.970444</td>\n",
       "      <td>0.388839</td>\n",
       "      <td>0.991661</td>\n",
       "    </tr>\n",
       "    <tr>\n",
       "      <th>1</th>\n",
       "      <td>0.537061</td>\n",
       "      <td>0.369353</td>\n",
       "      <td>1.000000</td>\n",
       "      <td>1.000000</td>\n",
       "      <td>0.376320</td>\n",
       "    </tr>\n",
       "    <tr>\n",
       "      <th>2</th>\n",
       "      <td>0.812868</td>\n",
       "      <td>0.452920</td>\n",
       "      <td>1.000000</td>\n",
       "      <td>1.000000</td>\n",
       "      <td>0.564708</td>\n",
       "    </tr>\n",
       "    <tr>\n",
       "      <th>3</th>\n",
       "      <td>0.441285</td>\n",
       "      <td>0.862606</td>\n",
       "      <td>0.668626</td>\n",
       "      <td>0.678420</td>\n",
       "      <td>0.161843</td>\n",
       "    </tr>\n",
       "    <tr>\n",
       "      <th>4</th>\n",
       "      <td>0.080405</td>\n",
       "      <td>0.689312</td>\n",
       "      <td>0.194074</td>\n",
       "      <td>0.604543</td>\n",
       "      <td>0.740716</td>\n",
       "    </tr>\n",
       "    <tr>\n",
       "      <th>...</th>\n",
       "      <td>...</td>\n",
       "      <td>...</td>\n",
       "      <td>...</td>\n",
       "      <td>...</td>\n",
       "      <td>...</td>\n",
       "    </tr>\n",
       "    <tr>\n",
       "      <th>329</th>\n",
       "      <td>0.337686</td>\n",
       "      <td>0.930909</td>\n",
       "      <td>0.736689</td>\n",
       "      <td>0.680936</td>\n",
       "      <td>0.805624</td>\n",
       "    </tr>\n",
       "    <tr>\n",
       "      <th>330</th>\n",
       "      <td>0.07642</td>\n",
       "      <td>0.281268</td>\n",
       "      <td>0.724187</td>\n",
       "      <td>0.070705</td>\n",
       "      <td>0.294110</td>\n",
       "    </tr>\n",
       "    <tr>\n",
       "      <th>331</th>\n",
       "      <td>0.765668</td>\n",
       "      <td>0.673129</td>\n",
       "      <td>0.966068</td>\n",
       "      <td>0.885469</td>\n",
       "      <td>0.367636</td>\n",
       "    </tr>\n",
       "    <tr>\n",
       "      <th>332</th>\n",
       "      <td>0.474802</td>\n",
       "      <td>0.566986</td>\n",
       "      <td>0.046846</td>\n",
       "      <td>0.682673</td>\n",
       "      <td>0.694738</td>\n",
       "    </tr>\n",
       "    <tr>\n",
       "      <th>333</th>\n",
       "      <td>0.196133</td>\n",
       "      <td>0.507601</td>\n",
       "      <td>0.626752</td>\n",
       "      <td>0.081347</td>\n",
       "      <td>0.004299</td>\n",
       "    </tr>\n",
       "  </tbody>\n",
       "</table>\n",
       "<p>334 rows × 5 columns</p>\n",
       "</div>"
      ],
      "text/plain": [
       "            A         B         C         D         E\n",
       "0       12345  0.992037  0.970444  0.388839  0.991661\n",
       "1    0.537061  0.369353  1.000000  1.000000  0.376320\n",
       "2    0.812868  0.452920  1.000000  1.000000  0.564708\n",
       "3    0.441285  0.862606  0.668626  0.678420  0.161843\n",
       "4    0.080405  0.689312  0.194074  0.604543  0.740716\n",
       "..        ...       ...       ...       ...       ...\n",
       "329  0.337686  0.930909  0.736689  0.680936  0.805624\n",
       "330   0.07642  0.281268  0.724187  0.070705  0.294110\n",
       "331  0.765668  0.673129  0.966068  0.885469  0.367636\n",
       "332  0.474802  0.566986  0.046846  0.682673  0.694738\n",
       "333  0.196133  0.507601  0.626752  0.081347  0.004299\n",
       "\n",
       "[334 rows x 5 columns]"
      ]
     },
     "execution_count": 189,
     "metadata": {},
     "output_type": "execute_result"
    }
   ],
   "source": [
    "newdf"
   ]
  },
  {
   "cell_type": "code",
   "execution_count": 190,
   "metadata": {},
   "outputs": [
    {
     "data": {
      "text/html": [
       "<div>\n",
       "<style scoped>\n",
       "    .dataframe tbody tr th:only-of-type {\n",
       "        vertical-align: middle;\n",
       "    }\n",
       "\n",
       "    .dataframe tbody tr th {\n",
       "        vertical-align: top;\n",
       "    }\n",
       "\n",
       "    .dataframe thead th {\n",
       "        text-align: right;\n",
       "    }\n",
       "</style>\n",
       "<table border=\"1\" class=\"dataframe\">\n",
       "  <thead>\n",
       "    <tr style=\"text-align: right;\">\n",
       "      <th></th>\n",
       "      <th>C</th>\n",
       "      <th>D</th>\n",
       "    </tr>\n",
       "  </thead>\n",
       "  <tbody>\n",
       "    <tr>\n",
       "      <th>0</th>\n",
       "      <td>0.970444</td>\n",
       "      <td>0.388839</td>\n",
       "    </tr>\n",
       "    <tr>\n",
       "      <th>1</th>\n",
       "      <td>1.000000</td>\n",
       "      <td>1.000000</td>\n",
       "    </tr>\n",
       "    <tr>\n",
       "      <th>2</th>\n",
       "      <td>1.000000</td>\n",
       "      <td>1.000000</td>\n",
       "    </tr>\n",
       "    <tr>\n",
       "      <th>3</th>\n",
       "      <td>0.668626</td>\n",
       "      <td>0.678420</td>\n",
       "    </tr>\n",
       "    <tr>\n",
       "      <th>4</th>\n",
       "      <td>0.194074</td>\n",
       "      <td>0.604543</td>\n",
       "    </tr>\n",
       "    <tr>\n",
       "      <th>...</th>\n",
       "      <td>...</td>\n",
       "      <td>...</td>\n",
       "    </tr>\n",
       "    <tr>\n",
       "      <th>329</th>\n",
       "      <td>0.736689</td>\n",
       "      <td>0.680936</td>\n",
       "    </tr>\n",
       "    <tr>\n",
       "      <th>330</th>\n",
       "      <td>0.724187</td>\n",
       "      <td>0.070705</td>\n",
       "    </tr>\n",
       "    <tr>\n",
       "      <th>331</th>\n",
       "      <td>0.966068</td>\n",
       "      <td>0.885469</td>\n",
       "    </tr>\n",
       "    <tr>\n",
       "      <th>332</th>\n",
       "      <td>0.046846</td>\n",
       "      <td>0.682673</td>\n",
       "    </tr>\n",
       "    <tr>\n",
       "      <th>333</th>\n",
       "      <td>0.626752</td>\n",
       "      <td>0.081347</td>\n",
       "    </tr>\n",
       "  </tbody>\n",
       "</table>\n",
       "<p>334 rows × 2 columns</p>\n",
       "</div>"
      ],
      "text/plain": [
       "            C         D\n",
       "0    0.970444  0.388839\n",
       "1    1.000000  1.000000\n",
       "2    1.000000  1.000000\n",
       "3    0.668626  0.678420\n",
       "4    0.194074  0.604543\n",
       "..        ...       ...\n",
       "329  0.736689  0.680936\n",
       "330  0.724187  0.070705\n",
       "331  0.966068  0.885469\n",
       "332  0.046846  0.682673\n",
       "333  0.626752  0.081347\n",
       "\n",
       "[334 rows x 2 columns]"
      ]
     },
     "execution_count": 190,
     "metadata": {},
     "output_type": "execute_result"
    }
   ],
   "source": [
    "newdf.loc[:,['C','D']] #all rows C D columns"
   ]
  },
  {
   "cell_type": "code",
   "execution_count": 191,
   "metadata": {},
   "outputs": [
    {
     "data": {
      "text/html": [
       "<div>\n",
       "<style scoped>\n",
       "    .dataframe tbody tr th:only-of-type {\n",
       "        vertical-align: middle;\n",
       "    }\n",
       "\n",
       "    .dataframe tbody tr th {\n",
       "        vertical-align: top;\n",
       "    }\n",
       "\n",
       "    .dataframe thead th {\n",
       "        text-align: right;\n",
       "    }\n",
       "</style>\n",
       "<table border=\"1\" class=\"dataframe\">\n",
       "  <thead>\n",
       "    <tr style=\"text-align: right;\">\n",
       "      <th></th>\n",
       "      <th>A</th>\n",
       "      <th>B</th>\n",
       "      <th>C</th>\n",
       "      <th>D</th>\n",
       "      <th>E</th>\n",
       "    </tr>\n",
       "  </thead>\n",
       "  <tbody>\n",
       "    <tr>\n",
       "      <th>1</th>\n",
       "      <td>0.537061</td>\n",
       "      <td>0.369353</td>\n",
       "      <td>1.0</td>\n",
       "      <td>1.0</td>\n",
       "      <td>0.376320</td>\n",
       "    </tr>\n",
       "    <tr>\n",
       "      <th>2</th>\n",
       "      <td>0.812868</td>\n",
       "      <td>0.452920</td>\n",
       "      <td>1.0</td>\n",
       "      <td>1.0</td>\n",
       "      <td>0.564708</td>\n",
       "    </tr>\n",
       "  </tbody>\n",
       "</table>\n",
       "</div>"
      ],
      "text/plain": [
       "          A         B    C    D         E\n",
       "1  0.537061  0.369353  1.0  1.0  0.376320\n",
       "2  0.812868  0.452920  1.0  1.0  0.564708"
      ]
     },
     "execution_count": 191,
     "metadata": {},
     "output_type": "execute_result"
    }
   ],
   "source": [
    "newdf.loc[[1,2],:] #all columns 1,2 rows"
   ]
  },
  {
   "cell_type": "markdown",
   "metadata": {},
   "source": [
    "**Quries running in DataFrames**"
   ]
  },
  {
   "cell_type": "code",
   "execution_count": 192,
   "metadata": {},
   "outputs": [
    {
     "data": {
      "text/html": [
       "<div>\n",
       "<style scoped>\n",
       "    .dataframe tbody tr th:only-of-type {\n",
       "        vertical-align: middle;\n",
       "    }\n",
       "\n",
       "    .dataframe tbody tr th {\n",
       "        vertical-align: top;\n",
       "    }\n",
       "\n",
       "    .dataframe thead th {\n",
       "        text-align: right;\n",
       "    }\n",
       "</style>\n",
       "<table border=\"1\" class=\"dataframe\">\n",
       "  <thead>\n",
       "    <tr style=\"text-align: right;\">\n",
       "      <th></th>\n",
       "      <th>A</th>\n",
       "      <th>B</th>\n",
       "      <th>C</th>\n",
       "      <th>D</th>\n",
       "      <th>E</th>\n",
       "    </tr>\n",
       "  </thead>\n",
       "  <tbody>\n",
       "    <tr>\n",
       "      <th>4</th>\n",
       "      <td>0.080405</td>\n",
       "      <td>0.689312</td>\n",
       "      <td>0.194074</td>\n",
       "      <td>0.604543</td>\n",
       "      <td>0.740716</td>\n",
       "    </tr>\n",
       "    <tr>\n",
       "      <th>5</th>\n",
       "      <td>0.119521</td>\n",
       "      <td>0.109382</td>\n",
       "      <td>0.168092</td>\n",
       "      <td>0.214529</td>\n",
       "      <td>0.180243</td>\n",
       "    </tr>\n",
       "    <tr>\n",
       "      <th>6</th>\n",
       "      <td>0.25941</td>\n",
       "      <td>0.554595</td>\n",
       "      <td>0.262283</td>\n",
       "      <td>0.542780</td>\n",
       "      <td>0.788287</td>\n",
       "    </tr>\n",
       "    <tr>\n",
       "      <th>10</th>\n",
       "      <td>0.19622</td>\n",
       "      <td>0.219233</td>\n",
       "      <td>0.823075</td>\n",
       "      <td>0.854264</td>\n",
       "      <td>0.678912</td>\n",
       "    </tr>\n",
       "    <tr>\n",
       "      <th>17</th>\n",
       "      <td>0.257922</td>\n",
       "      <td>0.957340</td>\n",
       "      <td>0.751744</td>\n",
       "      <td>0.963082</td>\n",
       "      <td>0.086807</td>\n",
       "    </tr>\n",
       "    <tr>\n",
       "      <th>...</th>\n",
       "      <td>...</td>\n",
       "      <td>...</td>\n",
       "      <td>...</td>\n",
       "      <td>...</td>\n",
       "      <td>...</td>\n",
       "    </tr>\n",
       "    <tr>\n",
       "      <th>312</th>\n",
       "      <td>0.198884</td>\n",
       "      <td>0.656163</td>\n",
       "      <td>0.866557</td>\n",
       "      <td>0.573761</td>\n",
       "      <td>0.966940</td>\n",
       "    </tr>\n",
       "    <tr>\n",
       "      <th>318</th>\n",
       "      <td>0.094069</td>\n",
       "      <td>0.059066</td>\n",
       "      <td>0.916143</td>\n",
       "      <td>0.655619</td>\n",
       "      <td>0.965523</td>\n",
       "    </tr>\n",
       "    <tr>\n",
       "      <th>319</th>\n",
       "      <td>0.091622</td>\n",
       "      <td>0.502910</td>\n",
       "      <td>0.909278</td>\n",
       "      <td>0.787957</td>\n",
       "      <td>0.149806</td>\n",
       "    </tr>\n",
       "    <tr>\n",
       "      <th>330</th>\n",
       "      <td>0.07642</td>\n",
       "      <td>0.281268</td>\n",
       "      <td>0.724187</td>\n",
       "      <td>0.070705</td>\n",
       "      <td>0.294110</td>\n",
       "    </tr>\n",
       "    <tr>\n",
       "      <th>333</th>\n",
       "      <td>0.196133</td>\n",
       "      <td>0.507601</td>\n",
       "      <td>0.626752</td>\n",
       "      <td>0.081347</td>\n",
       "      <td>0.004299</td>\n",
       "    </tr>\n",
       "  </tbody>\n",
       "</table>\n",
       "<p>90 rows × 5 columns</p>\n",
       "</div>"
      ],
      "text/plain": [
       "            A         B         C         D         E\n",
       "4    0.080405  0.689312  0.194074  0.604543  0.740716\n",
       "5    0.119521  0.109382  0.168092  0.214529  0.180243\n",
       "6     0.25941  0.554595  0.262283  0.542780  0.788287\n",
       "10    0.19622  0.219233  0.823075  0.854264  0.678912\n",
       "17   0.257922  0.957340  0.751744  0.963082  0.086807\n",
       "..        ...       ...       ...       ...       ...\n",
       "312  0.198884  0.656163  0.866557  0.573761  0.966940\n",
       "318  0.094069  0.059066  0.916143  0.655619  0.965523\n",
       "319  0.091622  0.502910  0.909278  0.787957  0.149806\n",
       "330   0.07642  0.281268  0.724187  0.070705  0.294110\n",
       "333  0.196133  0.507601  0.626752  0.081347  0.004299\n",
       "\n",
       "[90 rows x 5 columns]"
      ]
     },
     "execution_count": 192,
     "metadata": {},
     "output_type": "execute_result"
    }
   ],
   "source": [
    "newdf.loc[(newdf[\"A\"]<0.3)]"
   ]
  },
  {
   "cell_type": "code",
   "execution_count": 193,
   "metadata": {},
   "outputs": [
    {
     "data": {
      "text/html": [
       "<div>\n",
       "<style scoped>\n",
       "    .dataframe tbody tr th:only-of-type {\n",
       "        vertical-align: middle;\n",
       "    }\n",
       "\n",
       "    .dataframe tbody tr th {\n",
       "        vertical-align: top;\n",
       "    }\n",
       "\n",
       "    .dataframe thead th {\n",
       "        text-align: right;\n",
       "    }\n",
       "</style>\n",
       "<table border=\"1\" class=\"dataframe\">\n",
       "  <thead>\n",
       "    <tr style=\"text-align: right;\">\n",
       "      <th></th>\n",
       "      <th>A</th>\n",
       "      <th>B</th>\n",
       "      <th>C</th>\n",
       "      <th>D</th>\n",
       "      <th>E</th>\n",
       "    </tr>\n",
       "  </thead>\n",
       "  <tbody>\n",
       "    <tr>\n",
       "      <th>32</th>\n",
       "      <td>0.134813</td>\n",
       "      <td>0.138226</td>\n",
       "      <td>0.924923</td>\n",
       "      <td>0.610386</td>\n",
       "      <td>0.476888</td>\n",
       "    </tr>\n",
       "    <tr>\n",
       "      <th>153</th>\n",
       "      <td>0.222634</td>\n",
       "      <td>0.211969</td>\n",
       "      <td>0.960748</td>\n",
       "      <td>0.537142</td>\n",
       "      <td>0.100630</td>\n",
       "    </tr>\n",
       "    <tr>\n",
       "      <th>196</th>\n",
       "      <td>0.185135</td>\n",
       "      <td>0.385459</td>\n",
       "      <td>0.923874</td>\n",
       "      <td>0.318174</td>\n",
       "      <td>0.040733</td>\n",
       "    </tr>\n",
       "    <tr>\n",
       "      <th>204</th>\n",
       "      <td>0.26982</td>\n",
       "      <td>0.337639</td>\n",
       "      <td>0.998167</td>\n",
       "      <td>0.035908</td>\n",
       "      <td>0.610771</td>\n",
       "    </tr>\n",
       "    <tr>\n",
       "      <th>241</th>\n",
       "      <td>0.182543</td>\n",
       "      <td>0.386647</td>\n",
       "      <td>0.993063</td>\n",
       "      <td>0.769860</td>\n",
       "      <td>0.182656</td>\n",
       "    </tr>\n",
       "    <tr>\n",
       "      <th>264</th>\n",
       "      <td>0.289788</td>\n",
       "      <td>0.679177</td>\n",
       "      <td>0.986074</td>\n",
       "      <td>0.972280</td>\n",
       "      <td>0.615083</td>\n",
       "    </tr>\n",
       "    <tr>\n",
       "      <th>268</th>\n",
       "      <td>0.122744</td>\n",
       "      <td>0.171653</td>\n",
       "      <td>0.971116</td>\n",
       "      <td>0.574173</td>\n",
       "      <td>0.683501</td>\n",
       "    </tr>\n",
       "    <tr>\n",
       "      <th>309</th>\n",
       "      <td>0.219811</td>\n",
       "      <td>0.762435</td>\n",
       "      <td>0.925535</td>\n",
       "      <td>0.554395</td>\n",
       "      <td>0.433416</td>\n",
       "    </tr>\n",
       "    <tr>\n",
       "      <th>318</th>\n",
       "      <td>0.094069</td>\n",
       "      <td>0.059066</td>\n",
       "      <td>0.916143</td>\n",
       "      <td>0.655619</td>\n",
       "      <td>0.965523</td>\n",
       "    </tr>\n",
       "    <tr>\n",
       "      <th>319</th>\n",
       "      <td>0.091622</td>\n",
       "      <td>0.502910</td>\n",
       "      <td>0.909278</td>\n",
       "      <td>0.787957</td>\n",
       "      <td>0.149806</td>\n",
       "    </tr>\n",
       "  </tbody>\n",
       "</table>\n",
       "</div>"
      ],
      "text/plain": [
       "            A         B         C         D         E\n",
       "32   0.134813  0.138226  0.924923  0.610386  0.476888\n",
       "153  0.222634  0.211969  0.960748  0.537142  0.100630\n",
       "196  0.185135  0.385459  0.923874  0.318174  0.040733\n",
       "204   0.26982  0.337639  0.998167  0.035908  0.610771\n",
       "241  0.182543  0.386647  0.993063  0.769860  0.182656\n",
       "264  0.289788  0.679177  0.986074  0.972280  0.615083\n",
       "268  0.122744  0.171653  0.971116  0.574173  0.683501\n",
       "309  0.219811  0.762435  0.925535  0.554395  0.433416\n",
       "318  0.094069  0.059066  0.916143  0.655619  0.965523\n",
       "319  0.091622  0.502910  0.909278  0.787957  0.149806"
      ]
     },
     "execution_count": 193,
     "metadata": {},
     "output_type": "execute_result"
    }
   ],
   "source": [
    "newdf.loc[(newdf[\"A\"]<0.3) & (newdf['C']>0.9)]"
   ]
  },
  {
   "cell_type": "markdown",
   "metadata": {},
   "source": [
    "**Index loc function iloc()**"
   ]
  },
  {
   "cell_type": "code",
   "execution_count": 194,
   "metadata": {},
   "outputs": [
    {
     "data": {
      "text/html": [
       "<div>\n",
       "<style scoped>\n",
       "    .dataframe tbody tr th:only-of-type {\n",
       "        vertical-align: middle;\n",
       "    }\n",
       "\n",
       "    .dataframe tbody tr th {\n",
       "        vertical-align: top;\n",
       "    }\n",
       "\n",
       "    .dataframe thead th {\n",
       "        text-align: right;\n",
       "    }\n",
       "</style>\n",
       "<table border=\"1\" class=\"dataframe\">\n",
       "  <thead>\n",
       "    <tr style=\"text-align: right;\">\n",
       "      <th></th>\n",
       "      <th>A</th>\n",
       "      <th>B</th>\n",
       "      <th>C</th>\n",
       "      <th>D</th>\n",
       "      <th>E</th>\n",
       "    </tr>\n",
       "  </thead>\n",
       "  <tbody>\n",
       "    <tr>\n",
       "      <th>0</th>\n",
       "      <td>12345</td>\n",
       "      <td>0.992037</td>\n",
       "      <td>0.970444</td>\n",
       "      <td>0.388839</td>\n",
       "      <td>0.991661</td>\n",
       "    </tr>\n",
       "    <tr>\n",
       "      <th>1</th>\n",
       "      <td>0.537061</td>\n",
       "      <td>0.369353</td>\n",
       "      <td>1.000000</td>\n",
       "      <td>1.000000</td>\n",
       "      <td>0.376320</td>\n",
       "    </tr>\n",
       "  </tbody>\n",
       "</table>\n",
       "</div>"
      ],
      "text/plain": [
       "          A         B         C         D         E\n",
       "0     12345  0.992037  0.970444  0.388839  0.991661\n",
       "1  0.537061  0.369353  1.000000  1.000000  0.376320"
      ]
     },
     "execution_count": 194,
     "metadata": {},
     "output_type": "execute_result"
    }
   ],
   "source": [
    "newdf.head(2)"
   ]
  },
  {
   "cell_type": "code",
   "execution_count": 195,
   "metadata": {},
   "outputs": [
    {
     "data": {
      "text/plain": [
       "0.9916605591570963"
      ]
     },
     "execution_count": 195,
     "metadata": {},
     "output_type": "execute_result"
    }
   ],
   "source": [
    "newdf.iloc[0,4]"
   ]
  },
  {
   "cell_type": "code",
   "execution_count": 196,
   "metadata": {},
   "outputs": [
    {
     "data": {
      "text/html": [
       "<div>\n",
       "<style scoped>\n",
       "    .dataframe tbody tr th:only-of-type {\n",
       "        vertical-align: middle;\n",
       "    }\n",
       "\n",
       "    .dataframe tbody tr th {\n",
       "        vertical-align: top;\n",
       "    }\n",
       "\n",
       "    .dataframe thead th {\n",
       "        text-align: right;\n",
       "    }\n",
       "</style>\n",
       "<table border=\"1\" class=\"dataframe\">\n",
       "  <thead>\n",
       "    <tr style=\"text-align: right;\">\n",
       "      <th></th>\n",
       "      <th>B</th>\n",
       "      <th>C</th>\n",
       "    </tr>\n",
       "  </thead>\n",
       "  <tbody>\n",
       "    <tr>\n",
       "      <th>0</th>\n",
       "      <td>0.992037</td>\n",
       "      <td>0.970444</td>\n",
       "    </tr>\n",
       "    <tr>\n",
       "      <th>1</th>\n",
       "      <td>0.369353</td>\n",
       "      <td>1.000000</td>\n",
       "    </tr>\n",
       "  </tbody>\n",
       "</table>\n",
       "</div>"
      ],
      "text/plain": [
       "          B         C\n",
       "0  0.992037  0.970444\n",
       "1  0.369353  1.000000"
      ]
     },
     "execution_count": 196,
     "metadata": {},
     "output_type": "execute_result"
    }
   ],
   "source": [
    "newdf.iloc[[0,1],[1,2]] #here 0,1 row 1,2 column"
   ]
  },
  {
   "cell_type": "code",
   "execution_count": 197,
   "metadata": {},
   "outputs": [
    {
     "data": {
      "text/html": [
       "<div>\n",
       "<style scoped>\n",
       "    .dataframe tbody tr th:only-of-type {\n",
       "        vertical-align: middle;\n",
       "    }\n",
       "\n",
       "    .dataframe tbody tr th {\n",
       "        vertical-align: top;\n",
       "    }\n",
       "\n",
       "    .dataframe thead th {\n",
       "        text-align: right;\n",
       "    }\n",
       "</style>\n",
       "<table border=\"1\" class=\"dataframe\">\n",
       "  <thead>\n",
       "    <tr style=\"text-align: right;\">\n",
       "      <th></th>\n",
       "      <th>A</th>\n",
       "      <th>B</th>\n",
       "      <th>C</th>\n",
       "      <th>D</th>\n",
       "      <th>E</th>\n",
       "    </tr>\n",
       "  </thead>\n",
       "  <tbody>\n",
       "    <tr>\n",
       "      <th>1</th>\n",
       "      <td>0.537061</td>\n",
       "      <td>0.369353</td>\n",
       "      <td>1.000000</td>\n",
       "      <td>1.000000</td>\n",
       "      <td>0.376320</td>\n",
       "    </tr>\n",
       "    <tr>\n",
       "      <th>2</th>\n",
       "      <td>0.812868</td>\n",
       "      <td>0.452920</td>\n",
       "      <td>1.000000</td>\n",
       "      <td>1.000000</td>\n",
       "      <td>0.564708</td>\n",
       "    </tr>\n",
       "    <tr>\n",
       "      <th>3</th>\n",
       "      <td>0.441285</td>\n",
       "      <td>0.862606</td>\n",
       "      <td>0.668626</td>\n",
       "      <td>0.678420</td>\n",
       "      <td>0.161843</td>\n",
       "    </tr>\n",
       "    <tr>\n",
       "      <th>4</th>\n",
       "      <td>0.080405</td>\n",
       "      <td>0.689312</td>\n",
       "      <td>0.194074</td>\n",
       "      <td>0.604543</td>\n",
       "      <td>0.740716</td>\n",
       "    </tr>\n",
       "    <tr>\n",
       "      <th>5</th>\n",
       "      <td>0.119521</td>\n",
       "      <td>0.109382</td>\n",
       "      <td>0.168092</td>\n",
       "      <td>0.214529</td>\n",
       "      <td>0.180243</td>\n",
       "    </tr>\n",
       "    <tr>\n",
       "      <th>...</th>\n",
       "      <td>...</td>\n",
       "      <td>...</td>\n",
       "      <td>...</td>\n",
       "      <td>...</td>\n",
       "      <td>...</td>\n",
       "    </tr>\n",
       "    <tr>\n",
       "      <th>329</th>\n",
       "      <td>0.337686</td>\n",
       "      <td>0.930909</td>\n",
       "      <td>0.736689</td>\n",
       "      <td>0.680936</td>\n",
       "      <td>0.805624</td>\n",
       "    </tr>\n",
       "    <tr>\n",
       "      <th>330</th>\n",
       "      <td>0.07642</td>\n",
       "      <td>0.281268</td>\n",
       "      <td>0.724187</td>\n",
       "      <td>0.070705</td>\n",
       "      <td>0.294110</td>\n",
       "    </tr>\n",
       "    <tr>\n",
       "      <th>331</th>\n",
       "      <td>0.765668</td>\n",
       "      <td>0.673129</td>\n",
       "      <td>0.966068</td>\n",
       "      <td>0.885469</td>\n",
       "      <td>0.367636</td>\n",
       "    </tr>\n",
       "    <tr>\n",
       "      <th>332</th>\n",
       "      <td>0.474802</td>\n",
       "      <td>0.566986</td>\n",
       "      <td>0.046846</td>\n",
       "      <td>0.682673</td>\n",
       "      <td>0.694738</td>\n",
       "    </tr>\n",
       "    <tr>\n",
       "      <th>333</th>\n",
       "      <td>0.196133</td>\n",
       "      <td>0.507601</td>\n",
       "      <td>0.626752</td>\n",
       "      <td>0.081347</td>\n",
       "      <td>0.004299</td>\n",
       "    </tr>\n",
       "  </tbody>\n",
       "</table>\n",
       "<p>333 rows × 5 columns</p>\n",
       "</div>"
      ],
      "text/plain": [
       "            A         B         C         D         E\n",
       "1    0.537061  0.369353  1.000000  1.000000  0.376320\n",
       "2    0.812868  0.452920  1.000000  1.000000  0.564708\n",
       "3    0.441285  0.862606  0.668626  0.678420  0.161843\n",
       "4    0.080405  0.689312  0.194074  0.604543  0.740716\n",
       "5    0.119521  0.109382  0.168092  0.214529  0.180243\n",
       "..        ...       ...       ...       ...       ...\n",
       "329  0.337686  0.930909  0.736689  0.680936  0.805624\n",
       "330   0.07642  0.281268  0.724187  0.070705  0.294110\n",
       "331  0.765668  0.673129  0.966068  0.885469  0.367636\n",
       "332  0.474802  0.566986  0.046846  0.682673  0.694738\n",
       "333  0.196133  0.507601  0.626752  0.081347  0.004299\n",
       "\n",
       "[333 rows x 5 columns]"
      ]
     },
     "execution_count": 197,
     "metadata": {},
     "output_type": "execute_result"
    }
   ],
   "source": [
    "newdf.drop([0])# drop 0 row"
   ]
  },
  {
   "cell_type": "code",
   "execution_count": 198,
   "metadata": {},
   "outputs": [
    {
     "data": {
      "text/html": [
       "<div>\n",
       "<style scoped>\n",
       "    .dataframe tbody tr th:only-of-type {\n",
       "        vertical-align: middle;\n",
       "    }\n",
       "\n",
       "    .dataframe tbody tr th {\n",
       "        vertical-align: top;\n",
       "    }\n",
       "\n",
       "    .dataframe thead th {\n",
       "        text-align: right;\n",
       "    }\n",
       "</style>\n",
       "<table border=\"1\" class=\"dataframe\">\n",
       "  <thead>\n",
       "    <tr style=\"text-align: right;\">\n",
       "      <th></th>\n",
       "      <th>B</th>\n",
       "      <th>D</th>\n",
       "      <th>E</th>\n",
       "    </tr>\n",
       "  </thead>\n",
       "  <tbody>\n",
       "    <tr>\n",
       "      <th>0</th>\n",
       "      <td>0.992037</td>\n",
       "      <td>0.388839</td>\n",
       "      <td>0.991661</td>\n",
       "    </tr>\n",
       "    <tr>\n",
       "      <th>1</th>\n",
       "      <td>0.369353</td>\n",
       "      <td>1.000000</td>\n",
       "      <td>0.376320</td>\n",
       "    </tr>\n",
       "    <tr>\n",
       "      <th>2</th>\n",
       "      <td>0.452920</td>\n",
       "      <td>1.000000</td>\n",
       "      <td>0.564708</td>\n",
       "    </tr>\n",
       "    <tr>\n",
       "      <th>3</th>\n",
       "      <td>0.862606</td>\n",
       "      <td>0.678420</td>\n",
       "      <td>0.161843</td>\n",
       "    </tr>\n",
       "    <tr>\n",
       "      <th>4</th>\n",
       "      <td>0.689312</td>\n",
       "      <td>0.604543</td>\n",
       "      <td>0.740716</td>\n",
       "    </tr>\n",
       "    <tr>\n",
       "      <th>...</th>\n",
       "      <td>...</td>\n",
       "      <td>...</td>\n",
       "      <td>...</td>\n",
       "    </tr>\n",
       "    <tr>\n",
       "      <th>329</th>\n",
       "      <td>0.930909</td>\n",
       "      <td>0.680936</td>\n",
       "      <td>0.805624</td>\n",
       "    </tr>\n",
       "    <tr>\n",
       "      <th>330</th>\n",
       "      <td>0.281268</td>\n",
       "      <td>0.070705</td>\n",
       "      <td>0.294110</td>\n",
       "    </tr>\n",
       "    <tr>\n",
       "      <th>331</th>\n",
       "      <td>0.673129</td>\n",
       "      <td>0.885469</td>\n",
       "      <td>0.367636</td>\n",
       "    </tr>\n",
       "    <tr>\n",
       "      <th>332</th>\n",
       "      <td>0.566986</td>\n",
       "      <td>0.682673</td>\n",
       "      <td>0.694738</td>\n",
       "    </tr>\n",
       "    <tr>\n",
       "      <th>333</th>\n",
       "      <td>0.507601</td>\n",
       "      <td>0.081347</td>\n",
       "      <td>0.004299</td>\n",
       "    </tr>\n",
       "  </tbody>\n",
       "</table>\n",
       "<p>334 rows × 3 columns</p>\n",
       "</div>"
      ],
      "text/plain": [
       "            B         D         E\n",
       "0    0.992037  0.388839  0.991661\n",
       "1    0.369353  1.000000  0.376320\n",
       "2    0.452920  1.000000  0.564708\n",
       "3    0.862606  0.678420  0.161843\n",
       "4    0.689312  0.604543  0.740716\n",
       "..        ...       ...       ...\n",
       "329  0.930909  0.680936  0.805624\n",
       "330  0.281268  0.070705  0.294110\n",
       "331  0.673129  0.885469  0.367636\n",
       "332  0.566986  0.682673  0.694738\n",
       "333  0.507601  0.081347  0.004299\n",
       "\n",
       "[334 rows x 3 columns]"
      ]
     },
     "execution_count": 198,
     "metadata": {},
     "output_type": "execute_result"
    }
   ],
   "source": [
    "newdf.drop(['A','C'],axis=1) #column A drop"
   ]
  },
  {
   "cell_type": "markdown",
   "metadata": {},
   "source": [
    "**Inplace:**\n",
    "when we use inplace=True then it apply the changes on orignal/modify and no need to write df=df.......for change"
   ]
  },
  {
   "cell_type": "code",
   "execution_count": 199,
   "metadata": {},
   "outputs": [
    {
     "data": {
      "text/html": [
       "<div>\n",
       "<style scoped>\n",
       "    .dataframe tbody tr th:only-of-type {\n",
       "        vertical-align: middle;\n",
       "    }\n",
       "\n",
       "    .dataframe tbody tr th {\n",
       "        vertical-align: top;\n",
       "    }\n",
       "\n",
       "    .dataframe thead th {\n",
       "        text-align: right;\n",
       "    }\n",
       "</style>\n",
       "<table border=\"1\" class=\"dataframe\">\n",
       "  <thead>\n",
       "    <tr style=\"text-align: right;\">\n",
       "      <th></th>\n",
       "      <th>A</th>\n",
       "      <th>B</th>\n",
       "      <th>C</th>\n",
       "      <th>D</th>\n",
       "      <th>E</th>\n",
       "    </tr>\n",
       "  </thead>\n",
       "  <tbody>\n",
       "    <tr>\n",
       "      <th>0</th>\n",
       "      <td>12345</td>\n",
       "      <td>0.992037</td>\n",
       "      <td>0.970444</td>\n",
       "      <td>0.388839</td>\n",
       "      <td>0.991661</td>\n",
       "    </tr>\n",
       "    <tr>\n",
       "      <th>1</th>\n",
       "      <td>0.537061</td>\n",
       "      <td>0.369353</td>\n",
       "      <td>1.000000</td>\n",
       "      <td>1.000000</td>\n",
       "      <td>0.376320</td>\n",
       "    </tr>\n",
       "  </tbody>\n",
       "</table>\n",
       "</div>"
      ],
      "text/plain": [
       "          A         B         C         D         E\n",
       "0     12345  0.992037  0.970444  0.388839  0.991661\n",
       "1  0.537061  0.369353  1.000000  1.000000  0.376320"
      ]
     },
     "execution_count": 199,
     "metadata": {},
     "output_type": "execute_result"
    }
   ],
   "source": [
    "newdf.head(2)"
   ]
  },
  {
   "cell_type": "code",
   "execution_count": 200,
   "metadata": {},
   "outputs": [],
   "source": [
    "newdf.drop(['A'],axis=1,inplace=True) #in our orignal column A is dropped"
   ]
  },
  {
   "cell_type": "code",
   "execution_count": 201,
   "metadata": {},
   "outputs": [
    {
     "data": {
      "text/html": [
       "<div>\n",
       "<style scoped>\n",
       "    .dataframe tbody tr th:only-of-type {\n",
       "        vertical-align: middle;\n",
       "    }\n",
       "\n",
       "    .dataframe tbody tr th {\n",
       "        vertical-align: top;\n",
       "    }\n",
       "\n",
       "    .dataframe thead th {\n",
       "        text-align: right;\n",
       "    }\n",
       "</style>\n",
       "<table border=\"1\" class=\"dataframe\">\n",
       "  <thead>\n",
       "    <tr style=\"text-align: right;\">\n",
       "      <th></th>\n",
       "      <th>B</th>\n",
       "      <th>C</th>\n",
       "      <th>D</th>\n",
       "      <th>E</th>\n",
       "    </tr>\n",
       "  </thead>\n",
       "  <tbody>\n",
       "    <tr>\n",
       "      <th>0</th>\n",
       "      <td>0.992037</td>\n",
       "      <td>0.970444</td>\n",
       "      <td>0.388839</td>\n",
       "      <td>0.991661</td>\n",
       "    </tr>\n",
       "    <tr>\n",
       "      <th>1</th>\n",
       "      <td>0.369353</td>\n",
       "      <td>1.000000</td>\n",
       "      <td>1.000000</td>\n",
       "      <td>0.376320</td>\n",
       "    </tr>\n",
       "    <tr>\n",
       "      <th>2</th>\n",
       "      <td>0.452920</td>\n",
       "      <td>1.000000</td>\n",
       "      <td>1.000000</td>\n",
       "      <td>0.564708</td>\n",
       "    </tr>\n",
       "    <tr>\n",
       "      <th>3</th>\n",
       "      <td>0.862606</td>\n",
       "      <td>0.668626</td>\n",
       "      <td>0.678420</td>\n",
       "      <td>0.161843</td>\n",
       "    </tr>\n",
       "    <tr>\n",
       "      <th>4</th>\n",
       "      <td>0.689312</td>\n",
       "      <td>0.194074</td>\n",
       "      <td>0.604543</td>\n",
       "      <td>0.740716</td>\n",
       "    </tr>\n",
       "    <tr>\n",
       "      <th>...</th>\n",
       "      <td>...</td>\n",
       "      <td>...</td>\n",
       "      <td>...</td>\n",
       "      <td>...</td>\n",
       "    </tr>\n",
       "    <tr>\n",
       "      <th>329</th>\n",
       "      <td>0.930909</td>\n",
       "      <td>0.736689</td>\n",
       "      <td>0.680936</td>\n",
       "      <td>0.805624</td>\n",
       "    </tr>\n",
       "    <tr>\n",
       "      <th>330</th>\n",
       "      <td>0.281268</td>\n",
       "      <td>0.724187</td>\n",
       "      <td>0.070705</td>\n",
       "      <td>0.294110</td>\n",
       "    </tr>\n",
       "    <tr>\n",
       "      <th>331</th>\n",
       "      <td>0.673129</td>\n",
       "      <td>0.966068</td>\n",
       "      <td>0.885469</td>\n",
       "      <td>0.367636</td>\n",
       "    </tr>\n",
       "    <tr>\n",
       "      <th>332</th>\n",
       "      <td>0.566986</td>\n",
       "      <td>0.046846</td>\n",
       "      <td>0.682673</td>\n",
       "      <td>0.694738</td>\n",
       "    </tr>\n",
       "    <tr>\n",
       "      <th>333</th>\n",
       "      <td>0.507601</td>\n",
       "      <td>0.626752</td>\n",
       "      <td>0.081347</td>\n",
       "      <td>0.004299</td>\n",
       "    </tr>\n",
       "  </tbody>\n",
       "</table>\n",
       "<p>334 rows × 4 columns</p>\n",
       "</div>"
      ],
      "text/plain": [
       "            B         C         D         E\n",
       "0    0.992037  0.970444  0.388839  0.991661\n",
       "1    0.369353  1.000000  1.000000  0.376320\n",
       "2    0.452920  1.000000  1.000000  0.564708\n",
       "3    0.862606  0.668626  0.678420  0.161843\n",
       "4    0.689312  0.194074  0.604543  0.740716\n",
       "..        ...       ...       ...       ...\n",
       "329  0.930909  0.736689  0.680936  0.805624\n",
       "330  0.281268  0.724187  0.070705  0.294110\n",
       "331  0.673129  0.966068  0.885469  0.367636\n",
       "332  0.566986  0.046846  0.682673  0.694738\n",
       "333  0.507601  0.626752  0.081347  0.004299\n",
       "\n",
       "[334 rows x 4 columns]"
      ]
     },
     "execution_count": 201,
     "metadata": {},
     "output_type": "execute_result"
    }
   ],
   "source": [
    "newdf"
   ]
  },
  {
   "cell_type": "code",
   "execution_count": 202,
   "metadata": {},
   "outputs": [],
   "source": [
    "newdf.drop([1,5],axis=0,inplace=True) #in our orignal row 1,5 is dropped"
   ]
  },
  {
   "cell_type": "code",
   "execution_count": 203,
   "metadata": {},
   "outputs": [
    {
     "data": {
      "text/html": [
       "<div>\n",
       "<style scoped>\n",
       "    .dataframe tbody tr th:only-of-type {\n",
       "        vertical-align: middle;\n",
       "    }\n",
       "\n",
       "    .dataframe tbody tr th {\n",
       "        vertical-align: top;\n",
       "    }\n",
       "\n",
       "    .dataframe thead th {\n",
       "        text-align: right;\n",
       "    }\n",
       "</style>\n",
       "<table border=\"1\" class=\"dataframe\">\n",
       "  <thead>\n",
       "    <tr style=\"text-align: right;\">\n",
       "      <th></th>\n",
       "      <th>B</th>\n",
       "      <th>C</th>\n",
       "      <th>D</th>\n",
       "      <th>E</th>\n",
       "    </tr>\n",
       "  </thead>\n",
       "  <tbody>\n",
       "    <tr>\n",
       "      <th>0</th>\n",
       "      <td>0.992037</td>\n",
       "      <td>0.970444</td>\n",
       "      <td>0.388839</td>\n",
       "      <td>0.991661</td>\n",
       "    </tr>\n",
       "    <tr>\n",
       "      <th>2</th>\n",
       "      <td>0.452920</td>\n",
       "      <td>1.000000</td>\n",
       "      <td>1.000000</td>\n",
       "      <td>0.564708</td>\n",
       "    </tr>\n",
       "    <tr>\n",
       "      <th>3</th>\n",
       "      <td>0.862606</td>\n",
       "      <td>0.668626</td>\n",
       "      <td>0.678420</td>\n",
       "      <td>0.161843</td>\n",
       "    </tr>\n",
       "    <tr>\n",
       "      <th>4</th>\n",
       "      <td>0.689312</td>\n",
       "      <td>0.194074</td>\n",
       "      <td>0.604543</td>\n",
       "      <td>0.740716</td>\n",
       "    </tr>\n",
       "    <tr>\n",
       "      <th>6</th>\n",
       "      <td>0.554595</td>\n",
       "      <td>0.262283</td>\n",
       "      <td>0.542780</td>\n",
       "      <td>0.788287</td>\n",
       "    </tr>\n",
       "    <tr>\n",
       "      <th>...</th>\n",
       "      <td>...</td>\n",
       "      <td>...</td>\n",
       "      <td>...</td>\n",
       "      <td>...</td>\n",
       "    </tr>\n",
       "    <tr>\n",
       "      <th>329</th>\n",
       "      <td>0.930909</td>\n",
       "      <td>0.736689</td>\n",
       "      <td>0.680936</td>\n",
       "      <td>0.805624</td>\n",
       "    </tr>\n",
       "    <tr>\n",
       "      <th>330</th>\n",
       "      <td>0.281268</td>\n",
       "      <td>0.724187</td>\n",
       "      <td>0.070705</td>\n",
       "      <td>0.294110</td>\n",
       "    </tr>\n",
       "    <tr>\n",
       "      <th>331</th>\n",
       "      <td>0.673129</td>\n",
       "      <td>0.966068</td>\n",
       "      <td>0.885469</td>\n",
       "      <td>0.367636</td>\n",
       "    </tr>\n",
       "    <tr>\n",
       "      <th>332</th>\n",
       "      <td>0.566986</td>\n",
       "      <td>0.046846</td>\n",
       "      <td>0.682673</td>\n",
       "      <td>0.694738</td>\n",
       "    </tr>\n",
       "    <tr>\n",
       "      <th>333</th>\n",
       "      <td>0.507601</td>\n",
       "      <td>0.626752</td>\n",
       "      <td>0.081347</td>\n",
       "      <td>0.004299</td>\n",
       "    </tr>\n",
       "  </tbody>\n",
       "</table>\n",
       "<p>332 rows × 4 columns</p>\n",
       "</div>"
      ],
      "text/plain": [
       "            B         C         D         E\n",
       "0    0.992037  0.970444  0.388839  0.991661\n",
       "2    0.452920  1.000000  1.000000  0.564708\n",
       "3    0.862606  0.668626  0.678420  0.161843\n",
       "4    0.689312  0.194074  0.604543  0.740716\n",
       "6    0.554595  0.262283  0.542780  0.788287\n",
       "..        ...       ...       ...       ...\n",
       "329  0.930909  0.736689  0.680936  0.805624\n",
       "330  0.281268  0.724187  0.070705  0.294110\n",
       "331  0.673129  0.966068  0.885469  0.367636\n",
       "332  0.566986  0.046846  0.682673  0.694738\n",
       "333  0.507601  0.626752  0.081347  0.004299\n",
       "\n",
       "[332 rows x 4 columns]"
      ]
     },
     "execution_count": 203,
     "metadata": {},
     "output_type": "execute_result"
    }
   ],
   "source": [
    "newdf #here our 1,5 row is dropped and now i need to reset the indexes"
   ]
  },
  {
   "cell_type": "code",
   "execution_count": 204,
   "metadata": {},
   "outputs": [
    {
     "data": {
      "text/html": [
       "<div>\n",
       "<style scoped>\n",
       "    .dataframe tbody tr th:only-of-type {\n",
       "        vertical-align: middle;\n",
       "    }\n",
       "\n",
       "    .dataframe tbody tr th {\n",
       "        vertical-align: top;\n",
       "    }\n",
       "\n",
       "    .dataframe thead th {\n",
       "        text-align: right;\n",
       "    }\n",
       "</style>\n",
       "<table border=\"1\" class=\"dataframe\">\n",
       "  <thead>\n",
       "    <tr style=\"text-align: right;\">\n",
       "      <th></th>\n",
       "      <th>B</th>\n",
       "      <th>C</th>\n",
       "      <th>D</th>\n",
       "      <th>E</th>\n",
       "    </tr>\n",
       "  </thead>\n",
       "  <tbody>\n",
       "    <tr>\n",
       "      <th>0</th>\n",
       "      <td>0.992037</td>\n",
       "      <td>0.970444</td>\n",
       "      <td>0.388839</td>\n",
       "      <td>0.991661</td>\n",
       "    </tr>\n",
       "    <tr>\n",
       "      <th>2</th>\n",
       "      <td>0.452920</td>\n",
       "      <td>1.000000</td>\n",
       "      <td>1.000000</td>\n",
       "      <td>0.564708</td>\n",
       "    </tr>\n",
       "    <tr>\n",
       "      <th>3</th>\n",
       "      <td>0.862606</td>\n",
       "      <td>0.668626</td>\n",
       "      <td>0.678420</td>\n",
       "      <td>0.161843</td>\n",
       "    </tr>\n",
       "    <tr>\n",
       "      <th>4</th>\n",
       "      <td>0.689312</td>\n",
       "      <td>0.194074</td>\n",
       "      <td>0.604543</td>\n",
       "      <td>0.740716</td>\n",
       "    </tr>\n",
       "    <tr>\n",
       "      <th>6</th>\n",
       "      <td>0.554595</td>\n",
       "      <td>0.262283</td>\n",
       "      <td>0.542780</td>\n",
       "      <td>0.788287</td>\n",
       "    </tr>\n",
       "  </tbody>\n",
       "</table>\n",
       "</div>"
      ],
      "text/plain": [
       "          B         C         D         E\n",
       "0  0.992037  0.970444  0.388839  0.991661\n",
       "2  0.452920  1.000000  1.000000  0.564708\n",
       "3  0.862606  0.668626  0.678420  0.161843\n",
       "4  0.689312  0.194074  0.604543  0.740716\n",
       "6  0.554595  0.262283  0.542780  0.788287"
      ]
     },
     "execution_count": 204,
     "metadata": {},
     "output_type": "execute_result"
    }
   ],
   "source": [
    "newdf.head()"
   ]
  },
  {
   "cell_type": "code",
   "execution_count": 205,
   "metadata": {},
   "outputs": [],
   "source": [
    "newdf.reset_index(drop=True,inplace=True) #it adds a new col index so we need to drop=True"
   ]
  },
  {
   "cell_type": "code",
   "execution_count": 206,
   "metadata": {},
   "outputs": [
    {
     "data": {
      "text/html": [
       "<div>\n",
       "<style scoped>\n",
       "    .dataframe tbody tr th:only-of-type {\n",
       "        vertical-align: middle;\n",
       "    }\n",
       "\n",
       "    .dataframe tbody tr th {\n",
       "        vertical-align: top;\n",
       "    }\n",
       "\n",
       "    .dataframe thead th {\n",
       "        text-align: right;\n",
       "    }\n",
       "</style>\n",
       "<table border=\"1\" class=\"dataframe\">\n",
       "  <thead>\n",
       "    <tr style=\"text-align: right;\">\n",
       "      <th></th>\n",
       "      <th>B</th>\n",
       "      <th>C</th>\n",
       "      <th>D</th>\n",
       "      <th>E</th>\n",
       "    </tr>\n",
       "  </thead>\n",
       "  <tbody>\n",
       "    <tr>\n",
       "      <th>0</th>\n",
       "      <td>0.992037</td>\n",
       "      <td>0.970444</td>\n",
       "      <td>0.388839</td>\n",
       "      <td>0.991661</td>\n",
       "    </tr>\n",
       "    <tr>\n",
       "      <th>1</th>\n",
       "      <td>0.452920</td>\n",
       "      <td>1.000000</td>\n",
       "      <td>1.000000</td>\n",
       "      <td>0.564708</td>\n",
       "    </tr>\n",
       "    <tr>\n",
       "      <th>2</th>\n",
       "      <td>0.862606</td>\n",
       "      <td>0.668626</td>\n",
       "      <td>0.678420</td>\n",
       "      <td>0.161843</td>\n",
       "    </tr>\n",
       "    <tr>\n",
       "      <th>3</th>\n",
       "      <td>0.689312</td>\n",
       "      <td>0.194074</td>\n",
       "      <td>0.604543</td>\n",
       "      <td>0.740716</td>\n",
       "    </tr>\n",
       "    <tr>\n",
       "      <th>4</th>\n",
       "      <td>0.554595</td>\n",
       "      <td>0.262283</td>\n",
       "      <td>0.542780</td>\n",
       "      <td>0.788287</td>\n",
       "    </tr>\n",
       "  </tbody>\n",
       "</table>\n",
       "</div>"
      ],
      "text/plain": [
       "          B         C         D         E\n",
       "0  0.992037  0.970444  0.388839  0.991661\n",
       "1  0.452920  1.000000  1.000000  0.564708\n",
       "2  0.862606  0.668626  0.678420  0.161843\n",
       "3  0.689312  0.194074  0.604543  0.740716\n",
       "4  0.554595  0.262283  0.542780  0.788287"
      ]
     },
     "execution_count": 206,
     "metadata": {},
     "output_type": "execute_result"
    }
   ],
   "source": [
    "newdf.head()"
   ]
  },
  {
   "cell_type": "markdown",
   "metadata": {},
   "source": [
    "**Null values checking**"
   ]
  },
  {
   "cell_type": "code",
   "execution_count": 207,
   "metadata": {},
   "outputs": [
    {
     "data": {
      "text/plain": [
       "0      False\n",
       "1      False\n",
       "2      False\n",
       "3      False\n",
       "4      False\n",
       "       ...  \n",
       "327    False\n",
       "328    False\n",
       "329    False\n",
       "330    False\n",
       "331    False\n",
       "Name: B, Length: 332, dtype: bool"
      ]
     },
     "execution_count": 207,
     "metadata": {},
     "output_type": "execute_result"
    }
   ],
   "source": [
    "newdf['B'].isnull()"
   ]
  },
  {
   "cell_type": "code",
   "execution_count": 208,
   "metadata": {},
   "outputs": [],
   "source": [
    "#newdf[\"B\"]=None #Whole B column become none\n",
    "newdf.loc[:,['B']]=None #Both lines work but loc method is best S"
   ]
  },
  {
   "cell_type": "code",
   "execution_count": 209,
   "metadata": {},
   "outputs": [
    {
     "data": {
      "text/html": [
       "<div>\n",
       "<style scoped>\n",
       "    .dataframe tbody tr th:only-of-type {\n",
       "        vertical-align: middle;\n",
       "    }\n",
       "\n",
       "    .dataframe tbody tr th {\n",
       "        vertical-align: top;\n",
       "    }\n",
       "\n",
       "    .dataframe thead th {\n",
       "        text-align: right;\n",
       "    }\n",
       "</style>\n",
       "<table border=\"1\" class=\"dataframe\">\n",
       "  <thead>\n",
       "    <tr style=\"text-align: right;\">\n",
       "      <th></th>\n",
       "      <th>B</th>\n",
       "      <th>C</th>\n",
       "      <th>D</th>\n",
       "      <th>E</th>\n",
       "    </tr>\n",
       "  </thead>\n",
       "  <tbody>\n",
       "    <tr>\n",
       "      <th>0</th>\n",
       "      <td>None</td>\n",
       "      <td>0.970444</td>\n",
       "      <td>0.388839</td>\n",
       "      <td>0.991661</td>\n",
       "    </tr>\n",
       "    <tr>\n",
       "      <th>1</th>\n",
       "      <td>None</td>\n",
       "      <td>1.000000</td>\n",
       "      <td>1.000000</td>\n",
       "      <td>0.564708</td>\n",
       "    </tr>\n",
       "    <tr>\n",
       "      <th>2</th>\n",
       "      <td>None</td>\n",
       "      <td>0.668626</td>\n",
       "      <td>0.678420</td>\n",
       "      <td>0.161843</td>\n",
       "    </tr>\n",
       "    <tr>\n",
       "      <th>3</th>\n",
       "      <td>None</td>\n",
       "      <td>0.194074</td>\n",
       "      <td>0.604543</td>\n",
       "      <td>0.740716</td>\n",
       "    </tr>\n",
       "    <tr>\n",
       "      <th>4</th>\n",
       "      <td>None</td>\n",
       "      <td>0.262283</td>\n",
       "      <td>0.542780</td>\n",
       "      <td>0.788287</td>\n",
       "    </tr>\n",
       "    <tr>\n",
       "      <th>...</th>\n",
       "      <td>...</td>\n",
       "      <td>...</td>\n",
       "      <td>...</td>\n",
       "      <td>...</td>\n",
       "    </tr>\n",
       "    <tr>\n",
       "      <th>327</th>\n",
       "      <td>None</td>\n",
       "      <td>0.736689</td>\n",
       "      <td>0.680936</td>\n",
       "      <td>0.805624</td>\n",
       "    </tr>\n",
       "    <tr>\n",
       "      <th>328</th>\n",
       "      <td>None</td>\n",
       "      <td>0.724187</td>\n",
       "      <td>0.070705</td>\n",
       "      <td>0.294110</td>\n",
       "    </tr>\n",
       "    <tr>\n",
       "      <th>329</th>\n",
       "      <td>None</td>\n",
       "      <td>0.966068</td>\n",
       "      <td>0.885469</td>\n",
       "      <td>0.367636</td>\n",
       "    </tr>\n",
       "    <tr>\n",
       "      <th>330</th>\n",
       "      <td>None</td>\n",
       "      <td>0.046846</td>\n",
       "      <td>0.682673</td>\n",
       "      <td>0.694738</td>\n",
       "    </tr>\n",
       "    <tr>\n",
       "      <th>331</th>\n",
       "      <td>None</td>\n",
       "      <td>0.626752</td>\n",
       "      <td>0.081347</td>\n",
       "      <td>0.004299</td>\n",
       "    </tr>\n",
       "  </tbody>\n",
       "</table>\n",
       "<p>332 rows × 4 columns</p>\n",
       "</div>"
      ],
      "text/plain": [
       "        B         C         D         E\n",
       "0    None  0.970444  0.388839  0.991661\n",
       "1    None  1.000000  1.000000  0.564708\n",
       "2    None  0.668626  0.678420  0.161843\n",
       "3    None  0.194074  0.604543  0.740716\n",
       "4    None  0.262283  0.542780  0.788287\n",
       "..    ...       ...       ...       ...\n",
       "327  None  0.736689  0.680936  0.805624\n",
       "328  None  0.724187  0.070705  0.294110\n",
       "329  None  0.966068  0.885469  0.367636\n",
       "330  None  0.046846  0.682673  0.694738\n",
       "331  None  0.626752  0.081347  0.004299\n",
       "\n",
       "[332 rows x 4 columns]"
      ]
     },
     "execution_count": 209,
     "metadata": {},
     "output_type": "execute_result"
    }
   ],
   "source": [
    "newdf"
   ]
  },
  {
   "cell_type": "code",
   "execution_count": 210,
   "metadata": {},
   "outputs": [
    {
     "data": {
      "text/plain": [
       "0      True\n",
       "1      True\n",
       "2      True\n",
       "3      True\n",
       "4      True\n",
       "       ... \n",
       "327    True\n",
       "328    True\n",
       "329    True\n",
       "330    True\n",
       "331    True\n",
       "Name: B, Length: 332, dtype: bool"
      ]
     },
     "execution_count": 210,
     "metadata": {},
     "output_type": "execute_result"
    }
   ],
   "source": [
    "newdf['B'].isnull() #now all true because all values of B are none"
   ]
  },
  {
   "cell_type": "code",
   "execution_count": 211,
   "metadata": {},
   "outputs": [],
   "source": [
    "newdf.loc[:,['B']]=34"
   ]
  },
  {
   "cell_type": "code",
   "execution_count": 212,
   "metadata": {},
   "outputs": [
    {
     "data": {
      "text/html": [
       "<div>\n",
       "<style scoped>\n",
       "    .dataframe tbody tr th:only-of-type {\n",
       "        vertical-align: middle;\n",
       "    }\n",
       "\n",
       "    .dataframe tbody tr th {\n",
       "        vertical-align: top;\n",
       "    }\n",
       "\n",
       "    .dataframe thead th {\n",
       "        text-align: right;\n",
       "    }\n",
       "</style>\n",
       "<table border=\"1\" class=\"dataframe\">\n",
       "  <thead>\n",
       "    <tr style=\"text-align: right;\">\n",
       "      <th></th>\n",
       "      <th>B</th>\n",
       "      <th>C</th>\n",
       "      <th>D</th>\n",
       "      <th>E</th>\n",
       "    </tr>\n",
       "  </thead>\n",
       "  <tbody>\n",
       "    <tr>\n",
       "      <th>0</th>\n",
       "      <td>34</td>\n",
       "      <td>0.970444</td>\n",
       "      <td>0.388839</td>\n",
       "      <td>0.991661</td>\n",
       "    </tr>\n",
       "    <tr>\n",
       "      <th>1</th>\n",
       "      <td>34</td>\n",
       "      <td>1.000000</td>\n",
       "      <td>1.000000</td>\n",
       "      <td>0.564708</td>\n",
       "    </tr>\n",
       "    <tr>\n",
       "      <th>2</th>\n",
       "      <td>34</td>\n",
       "      <td>0.668626</td>\n",
       "      <td>0.678420</td>\n",
       "      <td>0.161843</td>\n",
       "    </tr>\n",
       "    <tr>\n",
       "      <th>3</th>\n",
       "      <td>34</td>\n",
       "      <td>0.194074</td>\n",
       "      <td>0.604543</td>\n",
       "      <td>0.740716</td>\n",
       "    </tr>\n",
       "    <tr>\n",
       "      <th>4</th>\n",
       "      <td>34</td>\n",
       "      <td>0.262283</td>\n",
       "      <td>0.542780</td>\n",
       "      <td>0.788287</td>\n",
       "    </tr>\n",
       "  </tbody>\n",
       "</table>\n",
       "</div>"
      ],
      "text/plain": [
       "    B         C         D         E\n",
       "0  34  0.970444  0.388839  0.991661\n",
       "1  34  1.000000  1.000000  0.564708\n",
       "2  34  0.668626  0.678420  0.161843\n",
       "3  34  0.194074  0.604543  0.740716\n",
       "4  34  0.262283  0.542780  0.788287"
      ]
     },
     "execution_count": 212,
     "metadata": {},
     "output_type": "execute_result"
    }
   ],
   "source": [
    "newdf.head()"
   ]
  },
  {
   "cell_type": "code",
   "execution_count": 213,
   "metadata": {},
   "outputs": [],
   "source": [
    "df=pd.DataFrame({'name':['Ali','Aqeel','Amir'],\n",
    "                'toy':[np.nan,'Batmobile','Bullwhip'],\n",
    "                'born':[pd.NaT,pd.Timestamp(\"15-09-2003\"),pd.NaT]})"
   ]
  },
  {
   "cell_type": "code",
   "execution_count": 214,
   "metadata": {},
   "outputs": [
    {
     "data": {
      "text/html": [
       "<div>\n",
       "<style scoped>\n",
       "    .dataframe tbody tr th:only-of-type {\n",
       "        vertical-align: middle;\n",
       "    }\n",
       "\n",
       "    .dataframe tbody tr th {\n",
       "        vertical-align: top;\n",
       "    }\n",
       "\n",
       "    .dataframe thead th {\n",
       "        text-align: right;\n",
       "    }\n",
       "</style>\n",
       "<table border=\"1\" class=\"dataframe\">\n",
       "  <thead>\n",
       "    <tr style=\"text-align: right;\">\n",
       "      <th></th>\n",
       "      <th>name</th>\n",
       "      <th>toy</th>\n",
       "      <th>born</th>\n",
       "    </tr>\n",
       "  </thead>\n",
       "  <tbody>\n",
       "    <tr>\n",
       "      <th>0</th>\n",
       "      <td>Ali</td>\n",
       "      <td>NaN</td>\n",
       "      <td>NaT</td>\n",
       "    </tr>\n",
       "    <tr>\n",
       "      <th>1</th>\n",
       "      <td>Aqeel</td>\n",
       "      <td>Batmobile</td>\n",
       "      <td>2003-09-15</td>\n",
       "    </tr>\n",
       "    <tr>\n",
       "      <th>2</th>\n",
       "      <td>Amir</td>\n",
       "      <td>Bullwhip</td>\n",
       "      <td>NaT</td>\n",
       "    </tr>\n",
       "  </tbody>\n",
       "</table>\n",
       "</div>"
      ],
      "text/plain": [
       "    name        toy       born\n",
       "0    Ali        NaN        NaT\n",
       "1  Aqeel  Batmobile 2003-09-15\n",
       "2   Amir   Bullwhip        NaT"
      ]
     },
     "execution_count": 214,
     "metadata": {},
     "output_type": "execute_result"
    }
   ],
   "source": [
    "df"
   ]
  },
  {
   "cell_type": "code",
   "execution_count": 215,
   "metadata": {},
   "outputs": [
    {
     "data": {
      "text/html": [
       "<div>\n",
       "<style scoped>\n",
       "    .dataframe tbody tr th:only-of-type {\n",
       "        vertical-align: middle;\n",
       "    }\n",
       "\n",
       "    .dataframe tbody tr th {\n",
       "        vertical-align: top;\n",
       "    }\n",
       "\n",
       "    .dataframe thead th {\n",
       "        text-align: right;\n",
       "    }\n",
       "</style>\n",
       "<table border=\"1\" class=\"dataframe\">\n",
       "  <thead>\n",
       "    <tr style=\"text-align: right;\">\n",
       "      <th></th>\n",
       "      <th>name</th>\n",
       "      <th>toy</th>\n",
       "      <th>born</th>\n",
       "    </tr>\n",
       "  </thead>\n",
       "  <tbody>\n",
       "    <tr>\n",
       "      <th>1</th>\n",
       "      <td>Aqeel</td>\n",
       "      <td>Batmobile</td>\n",
       "      <td>2003-09-15</td>\n",
       "    </tr>\n",
       "  </tbody>\n",
       "</table>\n",
       "</div>"
      ],
      "text/plain": [
       "    name        toy       born\n",
       "1  Aqeel  Batmobile 2003-09-15"
      ]
     },
     "execution_count": 215,
     "metadata": {},
     "output_type": "execute_result"
    }
   ],
   "source": [
    "df.dropna() #droping Na values"
   ]
  },
  {
   "cell_type": "code",
   "execution_count": 216,
   "metadata": {},
   "outputs": [
    {
     "data": {
      "text/html": [
       "<div>\n",
       "<style scoped>\n",
       "    .dataframe tbody tr th:only-of-type {\n",
       "        vertical-align: middle;\n",
       "    }\n",
       "\n",
       "    .dataframe tbody tr th {\n",
       "        vertical-align: top;\n",
       "    }\n",
       "\n",
       "    .dataframe thead th {\n",
       "        text-align: right;\n",
       "    }\n",
       "</style>\n",
       "<table border=\"1\" class=\"dataframe\">\n",
       "  <thead>\n",
       "    <tr style=\"text-align: right;\">\n",
       "      <th></th>\n",
       "      <th>name</th>\n",
       "      <th>toy</th>\n",
       "      <th>born</th>\n",
       "    </tr>\n",
       "  </thead>\n",
       "  <tbody>\n",
       "    <tr>\n",
       "      <th>0</th>\n",
       "      <td>Ali</td>\n",
       "      <td>NaN</td>\n",
       "      <td>NaT</td>\n",
       "    </tr>\n",
       "    <tr>\n",
       "      <th>1</th>\n",
       "      <td>Aqeel</td>\n",
       "      <td>Batmobile</td>\n",
       "      <td>2003-09-15</td>\n",
       "    </tr>\n",
       "    <tr>\n",
       "      <th>2</th>\n",
       "      <td>Amir</td>\n",
       "      <td>Bullwhip</td>\n",
       "      <td>NaT</td>\n",
       "    </tr>\n",
       "  </tbody>\n",
       "</table>\n",
       "</div>"
      ],
      "text/plain": [
       "    name        toy       born\n",
       "0    Ali        NaN        NaT\n",
       "1  Aqeel  Batmobile 2003-09-15\n",
       "2   Amir   Bullwhip        NaT"
      ]
     },
     "execution_count": 216,
     "metadata": {},
     "output_type": "execute_result"
    }
   ],
   "source": [
    "df.dropna(how='all') #it will drop if all values are nan"
   ]
  },
  {
   "cell_type": "code",
   "execution_count": 217,
   "metadata": {},
   "outputs": [],
   "source": [
    "df2=pd.DataFrame({'name':['Ali','Aqeel','Amir'],\n",
    "                'toy':[np.nan,np.nan,np.nan],\n",
    "                'born':[pd.NaT,pd.Timestamp(\"15-09-2003\"),pd.NaT]})"
   ]
  },
  {
   "cell_type": "code",
   "execution_count": 218,
   "metadata": {},
   "outputs": [
    {
     "data": {
      "text/html": [
       "<div>\n",
       "<style scoped>\n",
       "    .dataframe tbody tr th:only-of-type {\n",
       "        vertical-align: middle;\n",
       "    }\n",
       "\n",
       "    .dataframe tbody tr th {\n",
       "        vertical-align: top;\n",
       "    }\n",
       "\n",
       "    .dataframe thead th {\n",
       "        text-align: right;\n",
       "    }\n",
       "</style>\n",
       "<table border=\"1\" class=\"dataframe\">\n",
       "  <thead>\n",
       "    <tr style=\"text-align: right;\">\n",
       "      <th></th>\n",
       "      <th>name</th>\n",
       "      <th>toy</th>\n",
       "      <th>born</th>\n",
       "    </tr>\n",
       "  </thead>\n",
       "  <tbody>\n",
       "    <tr>\n",
       "      <th>0</th>\n",
       "      <td>Ali</td>\n",
       "      <td>NaN</td>\n",
       "      <td>NaT</td>\n",
       "    </tr>\n",
       "    <tr>\n",
       "      <th>1</th>\n",
       "      <td>Aqeel</td>\n",
       "      <td>NaN</td>\n",
       "      <td>2003-09-15</td>\n",
       "    </tr>\n",
       "    <tr>\n",
       "      <th>2</th>\n",
       "      <td>Amir</td>\n",
       "      <td>NaN</td>\n",
       "      <td>NaT</td>\n",
       "    </tr>\n",
       "  </tbody>\n",
       "</table>\n",
       "</div>"
      ],
      "text/plain": [
       "    name  toy       born\n",
       "0    Ali  NaN        NaT\n",
       "1  Aqeel  NaN 2003-09-15\n",
       "2   Amir  NaN        NaT"
      ]
     },
     "execution_count": 218,
     "metadata": {},
     "output_type": "execute_result"
    }
   ],
   "source": [
    "df2"
   ]
  },
  {
   "cell_type": "code",
   "execution_count": 219,
   "metadata": {},
   "outputs": [
    {
     "data": {
      "text/html": [
       "<div>\n",
       "<style scoped>\n",
       "    .dataframe tbody tr th:only-of-type {\n",
       "        vertical-align: middle;\n",
       "    }\n",
       "\n",
       "    .dataframe tbody tr th {\n",
       "        vertical-align: top;\n",
       "    }\n",
       "\n",
       "    .dataframe thead th {\n",
       "        text-align: right;\n",
       "    }\n",
       "</style>\n",
       "<table border=\"1\" class=\"dataframe\">\n",
       "  <thead>\n",
       "    <tr style=\"text-align: right;\">\n",
       "      <th></th>\n",
       "      <th>name</th>\n",
       "      <th>born</th>\n",
       "    </tr>\n",
       "  </thead>\n",
       "  <tbody>\n",
       "    <tr>\n",
       "      <th>0</th>\n",
       "      <td>Ali</td>\n",
       "      <td>NaT</td>\n",
       "    </tr>\n",
       "    <tr>\n",
       "      <th>1</th>\n",
       "      <td>Aqeel</td>\n",
       "      <td>2003-09-15</td>\n",
       "    </tr>\n",
       "    <tr>\n",
       "      <th>2</th>\n",
       "      <td>Amir</td>\n",
       "      <td>NaT</td>\n",
       "    </tr>\n",
       "  </tbody>\n",
       "</table>\n",
       "</div>"
      ],
      "text/plain": [
       "    name       born\n",
       "0    Ali        NaT\n",
       "1  Aqeel 2003-09-15\n",
       "2   Amir        NaT"
      ]
     },
     "execution_count": 219,
     "metadata": {},
     "output_type": "execute_result"
    }
   ],
   "source": [
    "df2.dropna(how='all',axis=1)"
   ]
  },
  {
   "cell_type": "code",
   "execution_count": 220,
   "metadata": {},
   "outputs": [],
   "source": [
    "df3=pd.DataFrame({'name':['Ali','Aqeel','Ali'],\n",
    "                'toy':[np.nan,np.nan,np.nan],\n",
    "                'born':[pd.NaT,pd.Timestamp(\"15-09-2003\"),pd.NaT]})"
   ]
  },
  {
   "cell_type": "code",
   "execution_count": 221,
   "metadata": {},
   "outputs": [
    {
     "data": {
      "text/html": [
       "<div>\n",
       "<style scoped>\n",
       "    .dataframe tbody tr th:only-of-type {\n",
       "        vertical-align: middle;\n",
       "    }\n",
       "\n",
       "    .dataframe tbody tr th {\n",
       "        vertical-align: top;\n",
       "    }\n",
       "\n",
       "    .dataframe thead th {\n",
       "        text-align: right;\n",
       "    }\n",
       "</style>\n",
       "<table border=\"1\" class=\"dataframe\">\n",
       "  <thead>\n",
       "    <tr style=\"text-align: right;\">\n",
       "      <th></th>\n",
       "      <th>name</th>\n",
       "      <th>toy</th>\n",
       "      <th>born</th>\n",
       "    </tr>\n",
       "  </thead>\n",
       "  <tbody>\n",
       "    <tr>\n",
       "      <th>0</th>\n",
       "      <td>Ali</td>\n",
       "      <td>NaN</td>\n",
       "      <td>NaT</td>\n",
       "    </tr>\n",
       "    <tr>\n",
       "      <th>1</th>\n",
       "      <td>Aqeel</td>\n",
       "      <td>NaN</td>\n",
       "      <td>2003-09-15</td>\n",
       "    </tr>\n",
       "    <tr>\n",
       "      <th>2</th>\n",
       "      <td>Ali</td>\n",
       "      <td>NaN</td>\n",
       "      <td>NaT</td>\n",
       "    </tr>\n",
       "  </tbody>\n",
       "</table>\n",
       "</div>"
      ],
      "text/plain": [
       "    name  toy       born\n",
       "0    Ali  NaN        NaT\n",
       "1  Aqeel  NaN 2003-09-15\n",
       "2    Ali  NaN        NaT"
      ]
     },
     "execution_count": 221,
     "metadata": {},
     "output_type": "execute_result"
    }
   ],
   "source": [
    "df3"
   ]
  },
  {
   "cell_type": "code",
   "execution_count": 222,
   "metadata": {},
   "outputs": [
    {
     "data": {
      "text/html": [
       "<div>\n",
       "<style scoped>\n",
       "    .dataframe tbody tr th:only-of-type {\n",
       "        vertical-align: middle;\n",
       "    }\n",
       "\n",
       "    .dataframe tbody tr th {\n",
       "        vertical-align: top;\n",
       "    }\n",
       "\n",
       "    .dataframe thead th {\n",
       "        text-align: right;\n",
       "    }\n",
       "</style>\n",
       "<table border=\"1\" class=\"dataframe\">\n",
       "  <thead>\n",
       "    <tr style=\"text-align: right;\">\n",
       "      <th></th>\n",
       "      <th>name</th>\n",
       "      <th>toy</th>\n",
       "      <th>born</th>\n",
       "    </tr>\n",
       "  </thead>\n",
       "  <tbody>\n",
       "    <tr>\n",
       "      <th>1</th>\n",
       "      <td>Aqeel</td>\n",
       "      <td>NaN</td>\n",
       "      <td>2003-09-15</td>\n",
       "    </tr>\n",
       "    <tr>\n",
       "      <th>2</th>\n",
       "      <td>Ali</td>\n",
       "      <td>NaN</td>\n",
       "      <td>NaT</td>\n",
       "    </tr>\n",
       "  </tbody>\n",
       "</table>\n",
       "</div>"
      ],
      "text/plain": [
       "    name  toy       born\n",
       "1  Aqeel  NaN 2003-09-15\n",
       "2    Ali  NaN        NaT"
      ]
     },
     "execution_count": 222,
     "metadata": {},
     "output_type": "execute_result"
    }
   ],
   "source": [
    "df3.drop_duplicates(subset=['name'],keep='last' ) #it removes the duplicate names and default it keeps first but i use keep and keep last name"
   ]
  },
  {
   "cell_type": "code",
   "execution_count": 223,
   "metadata": {},
   "outputs": [],
   "source": [
    "df3.dropna(axis=1,inplace=True)"
   ]
  },
  {
   "cell_type": "code",
   "execution_count": 224,
   "metadata": {},
   "outputs": [
    {
     "data": {
      "text/html": [
       "<div>\n",
       "<style scoped>\n",
       "    .dataframe tbody tr th:only-of-type {\n",
       "        vertical-align: middle;\n",
       "    }\n",
       "\n",
       "    .dataframe tbody tr th {\n",
       "        vertical-align: top;\n",
       "    }\n",
       "\n",
       "    .dataframe thead th {\n",
       "        text-align: right;\n",
       "    }\n",
       "</style>\n",
       "<table border=\"1\" class=\"dataframe\">\n",
       "  <thead>\n",
       "    <tr style=\"text-align: right;\">\n",
       "      <th></th>\n",
       "      <th>name</th>\n",
       "    </tr>\n",
       "  </thead>\n",
       "  <tbody>\n",
       "    <tr>\n",
       "      <th>0</th>\n",
       "      <td>Ali</td>\n",
       "    </tr>\n",
       "    <tr>\n",
       "      <th>1</th>\n",
       "      <td>Aqeel</td>\n",
       "    </tr>\n",
       "    <tr>\n",
       "      <th>2</th>\n",
       "      <td>Ali</td>\n",
       "    </tr>\n",
       "  </tbody>\n",
       "</table>\n",
       "</div>"
      ],
      "text/plain": [
       "    name\n",
       "0    Ali\n",
       "1  Aqeel\n",
       "2    Ali"
      ]
     },
     "execution_count": 224,
     "metadata": {},
     "output_type": "execute_result"
    }
   ],
   "source": [
    "df3"
   ]
  },
  {
   "cell_type": "code",
   "execution_count": 225,
   "metadata": {},
   "outputs": [
    {
     "data": {
      "text/html": [
       "<div>\n",
       "<style scoped>\n",
       "    .dataframe tbody tr th:only-of-type {\n",
       "        vertical-align: middle;\n",
       "    }\n",
       "\n",
       "    .dataframe tbody tr th {\n",
       "        vertical-align: top;\n",
       "    }\n",
       "\n",
       "    .dataframe thead th {\n",
       "        text-align: right;\n",
       "    }\n",
       "</style>\n",
       "<table border=\"1\" class=\"dataframe\">\n",
       "  <thead>\n",
       "    <tr style=\"text-align: right;\">\n",
       "      <th></th>\n",
       "      <th>name</th>\n",
       "      <th>toy</th>\n",
       "      <th>born</th>\n",
       "    </tr>\n",
       "  </thead>\n",
       "  <tbody>\n",
       "    <tr>\n",
       "      <th>0</th>\n",
       "      <td>Ali</td>\n",
       "      <td>NaN</td>\n",
       "      <td>NaT</td>\n",
       "    </tr>\n",
       "    <tr>\n",
       "      <th>1</th>\n",
       "      <td>Aqeel</td>\n",
       "      <td>Batmobile</td>\n",
       "      <td>2003-09-15</td>\n",
       "    </tr>\n",
       "    <tr>\n",
       "      <th>2</th>\n",
       "      <td>Amir</td>\n",
       "      <td>Bullwhip</td>\n",
       "      <td>NaT</td>\n",
       "    </tr>\n",
       "  </tbody>\n",
       "</table>\n",
       "</div>"
      ],
      "text/plain": [
       "    name        toy       born\n",
       "0    Ali        NaN        NaT\n",
       "1  Aqeel  Batmobile 2003-09-15\n",
       "2   Amir   Bullwhip        NaT"
      ]
     },
     "execution_count": 225,
     "metadata": {},
     "output_type": "execute_result"
    }
   ],
   "source": [
    "df.tail()"
   ]
  },
  {
   "cell_type": "code",
   "execution_count": 226,
   "metadata": {},
   "outputs": [
    {
     "data": {
      "text/plain": [
       "(3, 3)"
      ]
     },
     "execution_count": 226,
     "metadata": {},
     "output_type": "execute_result"
    }
   ],
   "source": [
    "df.shape"
   ]
  },
  {
   "cell_type": "code",
   "execution_count": 227,
   "metadata": {},
   "outputs": [
    {
     "name": "stdout",
     "output_type": "stream",
     "text": [
      "<class 'pandas.core.frame.DataFrame'>\n",
      "RangeIndex: 3 entries, 0 to 2\n",
      "Data columns (total 3 columns):\n",
      " #   Column  Non-Null Count  Dtype         \n",
      "---  ------  --------------  -----         \n",
      " 0   name    3 non-null      object        \n",
      " 1   toy     2 non-null      object        \n",
      " 2   born    1 non-null      datetime64[ns]\n",
      "dtypes: datetime64[ns](1), object(2)\n",
      "memory usage: 204.0+ bytes\n"
     ]
    }
   ],
   "source": [
    "df.info()"
   ]
  },
  {
   "cell_type": "code",
   "execution_count": 228,
   "metadata": {},
   "outputs": [
    {
     "data": {
      "text/plain": [
       "name\n",
       "Ali      1\n",
       "Aqeel    1\n",
       "Amir     1\n",
       "Name: count, dtype: int64"
      ]
     },
     "execution_count": 228,
     "metadata": {},
     "output_type": "execute_result"
    }
   ],
   "source": [
    "df['name'].value_counts(dropna=False) #Unique values count"
   ]
  },
  {
   "cell_type": "code",
   "execution_count": 229,
   "metadata": {},
   "outputs": [
    {
     "data": {
      "text/plain": [
       "toy\n",
       "NaN          1\n",
       "Batmobile    1\n",
       "Bullwhip     1\n",
       "Name: count, dtype: int64"
      ]
     },
     "execution_count": 229,
     "metadata": {},
     "output_type": "execute_result"
    }
   ],
   "source": [
    "df['toy'].value_counts(dropna=False) #with NA"
   ]
  },
  {
   "cell_type": "code",
   "execution_count": 230,
   "metadata": {},
   "outputs": [
    {
     "data": {
      "text/plain": [
       "toy\n",
       "Batmobile    1\n",
       "Bullwhip     1\n",
       "Name: count, dtype: int64"
      ]
     },
     "execution_count": 230,
     "metadata": {},
     "output_type": "execute_result"
    }
   ],
   "source": [
    "df['toy'].value_counts(dropna=True) #without NA"
   ]
  },
  {
   "cell_type": "code",
   "execution_count": 231,
   "metadata": {},
   "outputs": [
    {
     "data": {
      "text/html": [
       "<div>\n",
       "<style scoped>\n",
       "    .dataframe tbody tr th:only-of-type {\n",
       "        vertical-align: middle;\n",
       "    }\n",
       "\n",
       "    .dataframe tbody tr th {\n",
       "        vertical-align: top;\n",
       "    }\n",
       "\n",
       "    .dataframe thead th {\n",
       "        text-align: right;\n",
       "    }\n",
       "</style>\n",
       "<table border=\"1\" class=\"dataframe\">\n",
       "  <thead>\n",
       "    <tr style=\"text-align: right;\">\n",
       "      <th></th>\n",
       "      <th>name</th>\n",
       "      <th>toy</th>\n",
       "      <th>born</th>\n",
       "    </tr>\n",
       "  </thead>\n",
       "  <tbody>\n",
       "    <tr>\n",
       "      <th>0</th>\n",
       "      <td>Ali</td>\n",
       "      <td>NaN</td>\n",
       "      <td>NaT</td>\n",
       "    </tr>\n",
       "    <tr>\n",
       "      <th>1</th>\n",
       "      <td>Aqeel</td>\n",
       "      <td>Batmobile</td>\n",
       "      <td>2003-09-15</td>\n",
       "    </tr>\n",
       "    <tr>\n",
       "      <th>2</th>\n",
       "      <td>Amir</td>\n",
       "      <td>Bullwhip</td>\n",
       "      <td>NaT</td>\n",
       "    </tr>\n",
       "  </tbody>\n",
       "</table>\n",
       "</div>"
      ],
      "text/plain": [
       "    name        toy       born\n",
       "0    Ali        NaN        NaT\n",
       "1  Aqeel  Batmobile 2003-09-15\n",
       "2   Amir   Bullwhip        NaT"
      ]
     },
     "execution_count": 231,
     "metadata": {},
     "output_type": "execute_result"
    }
   ],
   "source": [
    "df"
   ]
  },
  {
   "cell_type": "code",
   "execution_count": 232,
   "metadata": {},
   "outputs": [
    {
     "data": {
      "text/html": [
       "<div>\n",
       "<style scoped>\n",
       "    .dataframe tbody tr th:only-of-type {\n",
       "        vertical-align: middle;\n",
       "    }\n",
       "\n",
       "    .dataframe tbody tr th {\n",
       "        vertical-align: top;\n",
       "    }\n",
       "\n",
       "    .dataframe thead th {\n",
       "        text-align: right;\n",
       "    }\n",
       "</style>\n",
       "<table border=\"1\" class=\"dataframe\">\n",
       "  <thead>\n",
       "    <tr style=\"text-align: right;\">\n",
       "      <th></th>\n",
       "      <th>name</th>\n",
       "      <th>toy</th>\n",
       "      <th>born</th>\n",
       "    </tr>\n",
       "  </thead>\n",
       "  <tbody>\n",
       "    <tr>\n",
       "      <th>0</th>\n",
       "      <td>True</td>\n",
       "      <td>False</td>\n",
       "      <td>False</td>\n",
       "    </tr>\n",
       "    <tr>\n",
       "      <th>1</th>\n",
       "      <td>True</td>\n",
       "      <td>True</td>\n",
       "      <td>True</td>\n",
       "    </tr>\n",
       "    <tr>\n",
       "      <th>2</th>\n",
       "      <td>True</td>\n",
       "      <td>True</td>\n",
       "      <td>False</td>\n",
       "    </tr>\n",
       "  </tbody>\n",
       "</table>\n",
       "</div>"
      ],
      "text/plain": [
       "   name    toy   born\n",
       "0  True  False  False\n",
       "1  True   True   True\n",
       "2  True   True  False"
      ]
     },
     "execution_count": 232,
     "metadata": {},
     "output_type": "execute_result"
    }
   ],
   "source": [
    "df.notnull() "
   ]
  },
  {
   "cell_type": "code",
   "execution_count": 233,
   "metadata": {},
   "outputs": [
    {
     "data": {
      "text/html": [
       "<div>\n",
       "<style scoped>\n",
       "    .dataframe tbody tr th:only-of-type {\n",
       "        vertical-align: middle;\n",
       "    }\n",
       "\n",
       "    .dataframe tbody tr th {\n",
       "        vertical-align: top;\n",
       "    }\n",
       "\n",
       "    .dataframe thead th {\n",
       "        text-align: right;\n",
       "    }\n",
       "</style>\n",
       "<table border=\"1\" class=\"dataframe\">\n",
       "  <thead>\n",
       "    <tr style=\"text-align: right;\">\n",
       "      <th></th>\n",
       "      <th>name</th>\n",
       "      <th>toy</th>\n",
       "      <th>born</th>\n",
       "    </tr>\n",
       "  </thead>\n",
       "  <tbody>\n",
       "    <tr>\n",
       "      <th>0</th>\n",
       "      <td>False</td>\n",
       "      <td>True</td>\n",
       "      <td>True</td>\n",
       "    </tr>\n",
       "    <tr>\n",
       "      <th>1</th>\n",
       "      <td>False</td>\n",
       "      <td>False</td>\n",
       "      <td>False</td>\n",
       "    </tr>\n",
       "    <tr>\n",
       "      <th>2</th>\n",
       "      <td>False</td>\n",
       "      <td>False</td>\n",
       "      <td>True</td>\n",
       "    </tr>\n",
       "  </tbody>\n",
       "</table>\n",
       "</div>"
      ],
      "text/plain": [
       "    name    toy   born\n",
       "0  False   True   True\n",
       "1  False  False  False\n",
       "2  False  False   True"
      ]
     },
     "execution_count": 233,
     "metadata": {},
     "output_type": "execute_result"
    }
   ],
   "source": [
    "df.isnull()"
   ]
  },
  {
   "cell_type": "markdown",
   "metadata": {},
   "source": [
    "**Quiz**"
   ]
  },
  {
   "cell_type": "code",
   "execution_count": 234,
   "metadata": {},
   "outputs": [],
   "source": [
    "df=pd.DataFrame({'A':[1,3,6],\n",
    "                 'B':[4,5,7],\n",
    "                 })"
   ]
  },
  {
   "cell_type": "code",
   "execution_count": 235,
   "metadata": {},
   "outputs": [
    {
     "data": {
      "text/html": [
       "<div>\n",
       "<style scoped>\n",
       "    .dataframe tbody tr th:only-of-type {\n",
       "        vertical-align: middle;\n",
       "    }\n",
       "\n",
       "    .dataframe tbody tr th {\n",
       "        vertical-align: top;\n",
       "    }\n",
       "\n",
       "    .dataframe thead th {\n",
       "        text-align: right;\n",
       "    }\n",
       "</style>\n",
       "<table border=\"1\" class=\"dataframe\">\n",
       "  <thead>\n",
       "    <tr style=\"text-align: right;\">\n",
       "      <th></th>\n",
       "      <th>A</th>\n",
       "      <th>B</th>\n",
       "    </tr>\n",
       "  </thead>\n",
       "  <tbody>\n",
       "    <tr>\n",
       "      <th>count</th>\n",
       "      <td>3.000000</td>\n",
       "      <td>3.000000</td>\n",
       "    </tr>\n",
       "    <tr>\n",
       "      <th>mean</th>\n",
       "      <td>3.333333</td>\n",
       "      <td>5.333333</td>\n",
       "    </tr>\n",
       "    <tr>\n",
       "      <th>std</th>\n",
       "      <td>2.516611</td>\n",
       "      <td>1.527525</td>\n",
       "    </tr>\n",
       "    <tr>\n",
       "      <th>min</th>\n",
       "      <td>1.000000</td>\n",
       "      <td>4.000000</td>\n",
       "    </tr>\n",
       "    <tr>\n",
       "      <th>25%</th>\n",
       "      <td>2.000000</td>\n",
       "      <td>4.500000</td>\n",
       "    </tr>\n",
       "    <tr>\n",
       "      <th>50%</th>\n",
       "      <td>3.000000</td>\n",
       "      <td>5.000000</td>\n",
       "    </tr>\n",
       "    <tr>\n",
       "      <th>75%</th>\n",
       "      <td>4.500000</td>\n",
       "      <td>6.000000</td>\n",
       "    </tr>\n",
       "    <tr>\n",
       "      <th>max</th>\n",
       "      <td>6.000000</td>\n",
       "      <td>7.000000</td>\n",
       "    </tr>\n",
       "  </tbody>\n",
       "</table>\n",
       "</div>"
      ],
      "text/plain": [
       "              A         B\n",
       "count  3.000000  3.000000\n",
       "mean   3.333333  5.333333\n",
       "std    2.516611  1.527525\n",
       "min    1.000000  4.000000\n",
       "25%    2.000000  4.500000\n",
       "50%    3.000000  5.000000\n",
       "75%    4.500000  6.000000\n",
       "max    6.000000  7.000000"
      ]
     },
     "execution_count": 235,
     "metadata": {},
     "output_type": "execute_result"
    }
   ],
   "source": [
    "#Create a dataframe which contains only integers with 3 rows and 2 columns \n",
    "#Run following dataframe methods on them:\n",
    "df.describe()\n",
    "# df.mean()\n",
    "# df.corr()\n",
    "# df.count()\n",
    "# df.max()\n",
    "# df.min()\n",
    "# df.median()\n",
    "# df.std()\n",
    "# df.mode()"
   ]
  },
  {
   "cell_type": "markdown",
   "metadata": {},
   "source": [
    "**Reading Excel Xlsx files**"
   ]
  },
  {
   "cell_type": "code",
   "execution_count": 236,
   "metadata": {},
   "outputs": [],
   "source": [
    "# pip install openpyxl"
   ]
  },
  {
   "cell_type": "code",
   "execution_count": 237,
   "metadata": {},
   "outputs": [],
   "source": [
    "data = pd.read_excel('Aqeel.xlsx') #I need to install openpyxl or xlrd"
   ]
  },
  {
   "cell_type": "code",
   "execution_count": 238,
   "metadata": {},
   "outputs": [
    {
     "data": {
      "text/html": [
       "<div>\n",
       "<style scoped>\n",
       "    .dataframe tbody tr th:only-of-type {\n",
       "        vertical-align: middle;\n",
       "    }\n",
       "\n",
       "    .dataframe tbody tr th {\n",
       "        vertical-align: top;\n",
       "    }\n",
       "\n",
       "    .dataframe thead th {\n",
       "        text-align: right;\n",
       "    }\n",
       "</style>\n",
       "<table border=\"1\" class=\"dataframe\">\n",
       "  <thead>\n",
       "    <tr style=\"text-align: right;\">\n",
       "      <th></th>\n",
       "      <th>Name</th>\n",
       "      <th>Marks1</th>\n",
       "      <th>City</th>\n",
       "    </tr>\n",
       "  </thead>\n",
       "  <tbody>\n",
       "    <tr>\n",
       "      <th>0</th>\n",
       "      <td>Aqeel</td>\n",
       "      <td>70</td>\n",
       "      <td>Musa Khel</td>\n",
       "    </tr>\n",
       "    <tr>\n",
       "      <th>1</th>\n",
       "      <td>Ali</td>\n",
       "      <td>62</td>\n",
       "      <td>Marmandi</td>\n",
       "    </tr>\n",
       "    <tr>\n",
       "      <th>2</th>\n",
       "      <td>Awais</td>\n",
       "      <td>80</td>\n",
       "      <td>Mianwali</td>\n",
       "    </tr>\n",
       "  </tbody>\n",
       "</table>\n",
       "</div>"
      ],
      "text/plain": [
       "    Name  Marks1       City\n",
       "0  Aqeel      70  Musa Khel\n",
       "1    Ali      62   Marmandi\n",
       "2  Awais      80   Mianwali"
      ]
     },
     "execution_count": 238,
     "metadata": {},
     "output_type": "execute_result"
    }
   ],
   "source": [
    "data"
   ]
  },
  {
   "cell_type": "code",
   "execution_count": 241,
   "metadata": {},
   "outputs": [],
   "source": [
    "data = pd.read_excel('Aqeel.xlsx',sheet_name='Sheet1')"
   ]
  },
  {
   "cell_type": "code",
   "execution_count": 242,
   "metadata": {},
   "outputs": [
    {
     "data": {
      "text/html": [
       "<div>\n",
       "<style scoped>\n",
       "    .dataframe tbody tr th:only-of-type {\n",
       "        vertical-align: middle;\n",
       "    }\n",
       "\n",
       "    .dataframe tbody tr th {\n",
       "        vertical-align: top;\n",
       "    }\n",
       "\n",
       "    .dataframe thead th {\n",
       "        text-align: right;\n",
       "    }\n",
       "</style>\n",
       "<table border=\"1\" class=\"dataframe\">\n",
       "  <thead>\n",
       "    <tr style=\"text-align: right;\">\n",
       "      <th></th>\n",
       "      <th>Name</th>\n",
       "      <th>Marks1</th>\n",
       "      <th>City</th>\n",
       "    </tr>\n",
       "  </thead>\n",
       "  <tbody>\n",
       "    <tr>\n",
       "      <th>0</th>\n",
       "      <td>Aqeel</td>\n",
       "      <td>70</td>\n",
       "      <td>Musa Khel</td>\n",
       "    </tr>\n",
       "    <tr>\n",
       "      <th>1</th>\n",
       "      <td>Ali</td>\n",
       "      <td>62</td>\n",
       "      <td>Marmandi</td>\n",
       "    </tr>\n",
       "    <tr>\n",
       "      <th>2</th>\n",
       "      <td>Awais</td>\n",
       "      <td>80</td>\n",
       "      <td>Mianwali</td>\n",
       "    </tr>\n",
       "  </tbody>\n",
       "</table>\n",
       "</div>"
      ],
      "text/plain": [
       "    Name  Marks1       City\n",
       "0  Aqeel      70  Musa Khel\n",
       "1    Ali      62   Marmandi\n",
       "2  Awais      80   Mianwali"
      ]
     },
     "execution_count": 242,
     "metadata": {},
     "output_type": "execute_result"
    }
   ],
   "source": [
    "data"
   ]
  },
  {
   "cell_type": "code",
   "execution_count": 240,
   "metadata": {},
   "outputs": [],
   "source": [
    "data = pd.read_excel('Aqeel.xlsx',sheet_name='Sheet2')"
   ]
  },
  {
   "cell_type": "code",
   "execution_count": 243,
   "metadata": {},
   "outputs": [
    {
     "data": {
      "text/html": [
       "<div>\n",
       "<style scoped>\n",
       "    .dataframe tbody tr th:only-of-type {\n",
       "        vertical-align: middle;\n",
       "    }\n",
       "\n",
       "    .dataframe tbody tr th {\n",
       "        vertical-align: top;\n",
       "    }\n",
       "\n",
       "    .dataframe thead th {\n",
       "        text-align: right;\n",
       "    }\n",
       "</style>\n",
       "<table border=\"1\" class=\"dataframe\">\n",
       "  <thead>\n",
       "    <tr style=\"text-align: right;\">\n",
       "      <th></th>\n",
       "      <th>Name</th>\n",
       "      <th>Marks1</th>\n",
       "      <th>City</th>\n",
       "    </tr>\n",
       "  </thead>\n",
       "  <tbody>\n",
       "    <tr>\n",
       "      <th>0</th>\n",
       "      <td>Aqeel</td>\n",
       "      <td>70</td>\n",
       "      <td>Musa Khel</td>\n",
       "    </tr>\n",
       "    <tr>\n",
       "      <th>1</th>\n",
       "      <td>Ali</td>\n",
       "      <td>62</td>\n",
       "      <td>Marmandi</td>\n",
       "    </tr>\n",
       "    <tr>\n",
       "      <th>2</th>\n",
       "      <td>Awais</td>\n",
       "      <td>80</td>\n",
       "      <td>Mianwali</td>\n",
       "    </tr>\n",
       "  </tbody>\n",
       "</table>\n",
       "</div>"
      ],
      "text/plain": [
       "    Name  Marks1       City\n",
       "0  Aqeel      70  Musa Khel\n",
       "1    Ali      62   Marmandi\n",
       "2  Awais      80   Mianwali"
      ]
     },
     "execution_count": 243,
     "metadata": {},
     "output_type": "execute_result"
    }
   ],
   "source": [
    "data"
   ]
  },
  {
   "cell_type": "code",
   "execution_count": null,
   "metadata": {},
   "outputs": [],
   "source": []
  }
 ],
 "metadata": {
  "kernelspec": {
   "display_name": "Python 3",
   "language": "python",
   "name": "python3"
  },
  "language_info": {
   "codemirror_mode": {
    "name": "ipython",
    "version": 3
   },
   "file_extension": ".py",
   "mimetype": "text/x-python",
   "name": "python",
   "nbconvert_exporter": "python",
   "pygments_lexer": "ipython3",
   "version": "3.12.0"
  }
 },
 "nbformat": 4,
 "nbformat_minor": 2
}
